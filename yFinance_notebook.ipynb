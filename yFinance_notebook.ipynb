{
  "nbformat": 4,
  "nbformat_minor": 0,
  "metadata": {
    "colab": {
      "name": "yFinance_notebook.ipynb",
      "provenance": []
    },
    "kernelspec": {
      "name": "python3",
      "display_name": "Python 3"
    },
    "language_info": {
      "name": "python"
    }
  },
  "cells": [
    {
      "cell_type": "code",
      "execution_count": 1,
      "metadata": {
        "colab": {
          "base_uri": "https://localhost:8080/"
        },
        "id": "buXPwtwiRTws",
        "outputId": "dc9fe1dc-3848-4714-ddaa-02dc98b09ddd"
      },
      "outputs": [
        {
          "output_type": "stream",
          "name": "stdout",
          "text": [
            "Looking in indexes: https://pypi.org/simple, https://us-python.pkg.dev/colab-wheels/public/simple/\n",
            "Collecting yfinance\n",
            "  Downloading yfinance-0.1.74-py2.py3-none-any.whl (27 kB)\n",
            "Requirement already satisfied: numpy>=1.15 in /usr/local/lib/python3.7/dist-packages (from yfinance) (1.21.6)\n",
            "Requirement already satisfied: pandas>=0.24.0 in /usr/local/lib/python3.7/dist-packages (from yfinance) (1.3.5)\n",
            "Requirement already satisfied: multitasking>=0.0.7 in /usr/local/lib/python3.7/dist-packages (from yfinance) (0.0.11)\n",
            "Collecting requests>=2.26\n",
            "  Downloading requests-2.28.1-py3-none-any.whl (62 kB)\n",
            "\u001b[K     |████████████████████████████████| 62 kB 631 kB/s \n",
            "\u001b[?25hRequirement already satisfied: lxml>=4.5.1 in /usr/local/lib/python3.7/dist-packages (from yfinance) (4.9.1)\n",
            "Requirement already satisfied: pytz>=2017.3 in /usr/local/lib/python3.7/dist-packages (from pandas>=0.24.0->yfinance) (2022.2.1)\n",
            "Requirement already satisfied: python-dateutil>=2.7.3 in /usr/local/lib/python3.7/dist-packages (from pandas>=0.24.0->yfinance) (2.8.2)\n",
            "Requirement already satisfied: six>=1.5 in /usr/local/lib/python3.7/dist-packages (from python-dateutil>=2.7.3->pandas>=0.24.0->yfinance) (1.15.0)\n",
            "Requirement already satisfied: charset-normalizer<3,>=2 in /usr/local/lib/python3.7/dist-packages (from requests>=2.26->yfinance) (2.1.0)\n",
            "Requirement already satisfied: idna<4,>=2.5 in /usr/local/lib/python3.7/dist-packages (from requests>=2.26->yfinance) (2.10)\n",
            "Requirement already satisfied: urllib3<1.27,>=1.21.1 in /usr/local/lib/python3.7/dist-packages (from requests>=2.26->yfinance) (1.24.3)\n",
            "Requirement already satisfied: certifi>=2017.4.17 in /usr/local/lib/python3.7/dist-packages (from requests>=2.26->yfinance) (2022.6.15)\n",
            "Installing collected packages: requests, yfinance\n",
            "  Attempting uninstall: requests\n",
            "    Found existing installation: requests 2.23.0\n",
            "    Uninstalling requests-2.23.0:\n",
            "      Successfully uninstalled requests-2.23.0\n",
            "Successfully installed requests-2.28.1 yfinance-0.1.74\n"
          ]
        }
      ],
      "source": [
        "pip install yfinance"
      ]
    },
    {
      "cell_type": "code",
      "source": [
        "import yfinance as yf\n",
        "import numpy as np\n",
        "import pandas as pd\n",
        "import matplotlib"
      ],
      "metadata": {
        "id": "RilqYlb_Tsql"
      },
      "execution_count": 2,
      "outputs": []
    },
    {
      "cell_type": "markdown",
      "source": [
        "Microsoft"
      ],
      "metadata": {
        "id": "tju1nUt0T8HY"
      }
    },
    {
      "cell_type": "code",
      "source": [
        "msft = yf.Ticker(\"MSFT\")"
      ],
      "metadata": {
        "id": "NdaG-vRgTv-7"
      },
      "execution_count": 3,
      "outputs": []
    },
    {
      "cell_type": "markdown",
      "source": [
        " get stock info and get historical data\n"
      ],
      "metadata": {
        "id": "6U2zueYAUW3f"
      }
    },
    {
      "cell_type": "code",
      "source": [
        "msft.info\n"
      ],
      "metadata": {
        "colab": {
          "base_uri": "https://localhost:8080/"
        },
        "id": "clEsO3IzUWPN",
        "outputId": "77c84cd7-26eb-4e09-e88d-e8e5f6424c27"
      },
      "execution_count": 5,
      "outputs": [
        {
          "output_type": "execute_result",
          "data": {
            "text/plain": [
              "{'zip': '98052-6399',\n",
              " 'sector': 'Technology',\n",
              " 'fullTimeEmployees': 221000,\n",
              " 'longBusinessSummary': 'Microsoft Corporation develops, licenses, and supports software, services, devices, and solutions worldwide. The company operates in three segments: Productivity and Business Processes, Intelligent Cloud, and More Personal Computing. The Productivity and Business Processes segment offers Office, Exchange, SharePoint, Microsoft Teams, Office 365 Security and Compliance, Microsoft Viva, and Skype for Business; Skype, Outlook.com, OneDrive, and LinkedIn; and Dynamics 365, a set of cloud-based and on-premises business solutions for organizations and enterprise divisions. The Intelligent Cloud segment licenses SQL, Windows Servers, Visual Studio, System Center, and related Client Access Licenses; GitHub that provides a collaboration platform and code hosting service for developers; Nuance provides healthcare and enterprise AI solutions; and Azure, a cloud platform. It also offers enterprise support, Microsoft consulting, and nuance professional services to assist customers in developing, deploying, and managing Microsoft server and desktop solutions; and training and certification on Microsoft products. The More Personal Computing segment provides Windows original equipment manufacturer (OEM) licensing and other non-volume licensing of the Windows operating system; Windows Commercial, such as volume licensing of the Windows operating system, Windows cloud services, and other Windows commercial offerings; patent licensing; and Windows Internet of Things. It also offers Surface, PC accessories, PCs, tablets, gaming and entertainment consoles, and other devices; Gaming, including Xbox hardware, and Xbox content and services; video games and third-party video game royalties; and Search, including Bing and Microsoft advertising. The company sells its products through OEMs, distributors, and resellers; and directly through digital marketplaces, online stores, and retail stores. Microsoft Corporation was founded in 1975 and is headquartered in Redmond, Washington.',\n",
              " 'city': 'Redmond',\n",
              " 'phone': '425 882 8080',\n",
              " 'state': 'WA',\n",
              " 'country': 'United States',\n",
              " 'companyOfficers': [],\n",
              " 'website': 'https://www.microsoft.com',\n",
              " 'maxAge': 1,\n",
              " 'address1': 'One Microsoft Way',\n",
              " 'fax': '425 706 7329',\n",
              " 'industry': 'Software—Infrastructure',\n",
              " 'ebitdaMargins': 0.49418998,\n",
              " 'profitMargins': 0.36686,\n",
              " 'grossMargins': 0.68402,\n",
              " 'operatingCashflow': 89034997760,\n",
              " 'revenueGrowth': 0.124,\n",
              " 'operatingMargins': 0.42055,\n",
              " 'ebitda': 97982996480,\n",
              " 'targetLowPrice': 250,\n",
              " 'recommendationKey': 'buy',\n",
              " 'grossProfits': 135620000000,\n",
              " 'freeCashflow': 49479000064,\n",
              " 'targetMedianPrice': 330,\n",
              " 'currentPrice': 276.44,\n",
              " 'earningsGrowth': 0.031,\n",
              " 'currentRatio': 1.785,\n",
              " 'returnOnAssets': 0.14919,\n",
              " 'numberOfAnalystOpinions': 47,\n",
              " 'targetMeanPrice': 333,\n",
              " 'debtToEquity': 47.075,\n",
              " 'returnOnEquity': 0.47151002,\n",
              " 'targetHighPrice': 411,\n",
              " 'totalCash': 104748998656,\n",
              " 'totalDebt': 78399995904,\n",
              " 'totalRevenue': 198269992960,\n",
              " 'totalCashPerShare': 14.045,\n",
              " 'financialCurrency': 'USD',\n",
              " 'revenuePerShare': 26.45,\n",
              " 'quickRatio': 1.567,\n",
              " 'recommendationMean': 1.7,\n",
              " 'exchange': 'NMS',\n",
              " 'shortName': 'Microsoft Corporation',\n",
              " 'longName': 'Microsoft Corporation',\n",
              " 'exchangeTimezoneName': 'America/New_York',\n",
              " 'exchangeTimezoneShortName': 'EDT',\n",
              " 'isEsgPopulated': False,\n",
              " 'gmtOffSetMilliseconds': '-14400000',\n",
              " 'quoteType': 'EQUITY',\n",
              " 'symbol': 'MSFT',\n",
              " 'messageBoardId': 'finmb_21835',\n",
              " 'market': 'us_market',\n",
              " 'annualHoldingsTurnover': None,\n",
              " 'enterpriseToRevenue': 10.315,\n",
              " 'beta3Year': None,\n",
              " 'enterpriseToEbitda': 20.872,\n",
              " '52WeekChange': -0.08466607,\n",
              " 'morningStarRiskRating': None,\n",
              " 'forwardEps': 11.93,\n",
              " 'revenueQuarterlyGrowth': None,\n",
              " 'sharesOutstanding': 7457889792,\n",
              " 'fundInceptionDate': None,\n",
              " 'annualReportExpenseRatio': None,\n",
              " 'totalAssets': None,\n",
              " 'bookValue': 22.313,\n",
              " 'sharesShort': 38192351,\n",
              " 'sharesPercentSharesOut': 0.0050999997,\n",
              " 'fundFamily': None,\n",
              " 'lastFiscalYearEnd': 1656547200,\n",
              " 'heldPercentInstitutions': 0.72033995,\n",
              " 'netIncomeToCommon': 72737996800,\n",
              " 'trailingEps': 9.65,\n",
              " 'lastDividendValue': 0.62,\n",
              " 'SandP52WeekChange': -0.08172697,\n",
              " 'priceToBook': 12.389191,\n",
              " 'heldPercentInsiders': 0.00074,\n",
              " 'nextFiscalYearEnd': 1719705600,\n",
              " 'yield': None,\n",
              " 'mostRecentQuarter': 1656547200,\n",
              " 'shortRatio': 1.43,\n",
              " 'sharesShortPreviousMonthDate': 1656547200,\n",
              " 'floatShares': 7450732296,\n",
              " 'beta': 0.927206,\n",
              " 'enterpriseValue': 2045080502272,\n",
              " 'priceHint': 2,\n",
              " 'threeYearAverageReturn': None,\n",
              " 'lastSplitDate': 1045526400,\n",
              " 'lastSplitFactor': '2:1',\n",
              " 'legalType': None,\n",
              " 'lastDividendDate': 1660694400,\n",
              " 'morningStarOverallRating': None,\n",
              " 'earningsQuarterlyGrowth': 0.017,\n",
              " 'priceToSalesTrailing12Months': 10.39824,\n",
              " 'dateShortInterest': 1659052800,\n",
              " 'pegRatio': 1.77,\n",
              " 'ytdReturn': None,\n",
              " 'forwardPE': 23.171835,\n",
              " 'lastCapGain': None,\n",
              " 'shortPercentOfFloat': 0.0050999997,\n",
              " 'sharesShortPriorMonth': 38896339,\n",
              " 'impliedSharesOutstanding': 0,\n",
              " 'category': None,\n",
              " 'fiveYearAverageReturn': None,\n",
              " 'previousClose': 277.75,\n",
              " 'regularMarketOpen': 276.44,\n",
              " 'twoHundredDayAverage': 293.03455,\n",
              " 'trailingAnnualDividendYield': 0.008928893,\n",
              " 'payoutRatio': 0.2508,\n",
              " 'volume24Hr': None,\n",
              " 'regularMarketDayHigh': 278.86,\n",
              " 'navPrice': None,\n",
              " 'averageDailyVolume10Day': 20211590,\n",
              " 'regularMarketPreviousClose': 277.75,\n",
              " 'fiftyDayAverage': 267.7574,\n",
              " 'trailingAnnualDividendRate': 2.48,\n",
              " 'open': 276.44,\n",
              " 'toCurrency': None,\n",
              " 'averageVolume10days': 20211590,\n",
              " 'expireDate': None,\n",
              " 'algorithm': None,\n",
              " 'dividendRate': 2.48,\n",
              " 'exDividendDate': 1660694400,\n",
              " 'circulatingSupply': None,\n",
              " 'startDate': None,\n",
              " 'regularMarketDayLow': 275.41,\n",
              " 'currency': 'USD',\n",
              " 'trailingPE': 28.646633,\n",
              " 'regularMarketVolume': 17527409,\n",
              " 'lastMarket': None,\n",
              " 'maxSupply': None,\n",
              " 'openInterest': None,\n",
              " 'marketCap': 2061659013120,\n",
              " 'volumeAllCurrencies': None,\n",
              " 'strikePrice': None,\n",
              " 'averageVolume': 26152722,\n",
              " 'dayLow': 275.41,\n",
              " 'ask': 276.39,\n",
              " 'askSize': 1100,\n",
              " 'volume': 17527409,\n",
              " 'fiftyTwoWeekHigh': 349.67,\n",
              " 'fromCurrency': None,\n",
              " 'fiveYearAvgDividendYield': 1.23,\n",
              " 'fiftyTwoWeekLow': 241.51,\n",
              " 'bid': 276.36,\n",
              " 'tradeable': False,\n",
              " 'dividendYield': 0.0089,\n",
              " 'bidSize': 800,\n",
              " 'dayHigh': 278.86,\n",
              " 'coinMarketCapLink': None,\n",
              " 'regularMarketPrice': 276.44,\n",
              " 'preMarketPrice': 276.15,\n",
              " 'logo_url': 'https://logo.clearbit.com/microsoft.com',\n",
              " 'trailingPegRatio': 2.0689}"
            ]
          },
          "metadata": {},
          "execution_count": 5
        }
      ]
    },
    {
      "cell_type": "code",
      "source": [
        "hist = msft.history(period=\"3mo\",interval='1wk')\n",
        "hist"
      ],
      "metadata": {
        "colab": {
          "base_uri": "https://localhost:8080/",
          "height": 922
        },
        "id": "WqraG0w-UJxY",
        "outputId": "42000bfb-26dc-41fa-9533-7c3c3c3174b2"
      },
      "execution_count": 7,
      "outputs": [
        {
          "output_type": "execute_result",
          "data": {
            "text/plain": [
              "                  Open        High         Low       Close       Volume  \\\n",
              "Date                                                                      \n",
              "2022-05-23  254.948837  272.761019  252.893188  272.661224  142680100.0   \n",
              "2022-05-30  271.952752  277.101827  261.045911  269.448059  135187100.0   \n",
              "2022-06-06  271.483747  273.599252  251.995115  252.454147  120495800.0   \n",
              "2022-06-13  244.590829  254.759248  240.998448  247.125443  184153000.0   \n",
              "2022-06-20  249.729918  267.412401  248.981506  267.132996  115652800.0   \n",
              "2022-06-27  267.641908  267.731714  252.364338  259.030182  126549000.0   \n",
              "2022-07-04  255.617437  268.490107  254.200446  267.093079   87284100.0   \n",
              "2022-07-11  265.087317  265.965458  245.419073  256.176239  139698000.0   \n",
              "2022-07-18  259.199809  264.767976  252.763474  259.808502  113061900.0   \n",
              "2022-07-25  260.447176  281.402696  249.041393  280.145355  171986700.0   \n",
              "2022-08-01  277.231545  283.198860  271.803066  282.310760  102679300.0   \n",
              "2022-08-08  283.448350  291.291718  277.021988  291.291718  109500000.0   \n",
              "2022-08-15  290.383617  293.556874  284.955138  285.543884   92185400.0   \n",
              "2022-08-17         NaN         NaN         NaN         NaN          NaN   \n",
              "2022-08-22  282.079987  282.459991  275.399994  276.440002   42574900.0   \n",
              "2022-08-23  276.440002  278.859985  275.410004  276.440002   17527409.0   \n",
              "\n",
              "            Dividends  Stock Splits  \n",
              "Date                                 \n",
              "2022-05-23       0.00             0  \n",
              "2022-05-30       0.00             0  \n",
              "2022-06-06       0.00             0  \n",
              "2022-06-13       0.00             0  \n",
              "2022-06-20       0.00             0  \n",
              "2022-06-27       0.00             0  \n",
              "2022-07-04       0.00             0  \n",
              "2022-07-11       0.00             0  \n",
              "2022-07-18       0.00             0  \n",
              "2022-07-25       0.00             0  \n",
              "2022-08-01       0.00             0  \n",
              "2022-08-08       0.00             0  \n",
              "2022-08-15       0.00             0  \n",
              "2022-08-17       0.62             0  \n",
              "2022-08-22       0.00             0  \n",
              "2022-08-23       0.00             0  "
            ],
            "text/html": [
              "\n",
              "  <div id=\"df-3583461f-5cc1-4793-9483-305303fd456a\">\n",
              "    <div class=\"colab-df-container\">\n",
              "      <div>\n",
              "<style scoped>\n",
              "    .dataframe tbody tr th:only-of-type {\n",
              "        vertical-align: middle;\n",
              "    }\n",
              "\n",
              "    .dataframe tbody tr th {\n",
              "        vertical-align: top;\n",
              "    }\n",
              "\n",
              "    .dataframe thead th {\n",
              "        text-align: right;\n",
              "    }\n",
              "</style>\n",
              "<table border=\"1\" class=\"dataframe\">\n",
              "  <thead>\n",
              "    <tr style=\"text-align: right;\">\n",
              "      <th></th>\n",
              "      <th>Open</th>\n",
              "      <th>High</th>\n",
              "      <th>Low</th>\n",
              "      <th>Close</th>\n",
              "      <th>Volume</th>\n",
              "      <th>Dividends</th>\n",
              "      <th>Stock Splits</th>\n",
              "    </tr>\n",
              "    <tr>\n",
              "      <th>Date</th>\n",
              "      <th></th>\n",
              "      <th></th>\n",
              "      <th></th>\n",
              "      <th></th>\n",
              "      <th></th>\n",
              "      <th></th>\n",
              "      <th></th>\n",
              "    </tr>\n",
              "  </thead>\n",
              "  <tbody>\n",
              "    <tr>\n",
              "      <th>2022-05-23</th>\n",
              "      <td>254.948837</td>\n",
              "      <td>272.761019</td>\n",
              "      <td>252.893188</td>\n",
              "      <td>272.661224</td>\n",
              "      <td>142680100.0</td>\n",
              "      <td>0.00</td>\n",
              "      <td>0</td>\n",
              "    </tr>\n",
              "    <tr>\n",
              "      <th>2022-05-30</th>\n",
              "      <td>271.952752</td>\n",
              "      <td>277.101827</td>\n",
              "      <td>261.045911</td>\n",
              "      <td>269.448059</td>\n",
              "      <td>135187100.0</td>\n",
              "      <td>0.00</td>\n",
              "      <td>0</td>\n",
              "    </tr>\n",
              "    <tr>\n",
              "      <th>2022-06-06</th>\n",
              "      <td>271.483747</td>\n",
              "      <td>273.599252</td>\n",
              "      <td>251.995115</td>\n",
              "      <td>252.454147</td>\n",
              "      <td>120495800.0</td>\n",
              "      <td>0.00</td>\n",
              "      <td>0</td>\n",
              "    </tr>\n",
              "    <tr>\n",
              "      <th>2022-06-13</th>\n",
              "      <td>244.590829</td>\n",
              "      <td>254.759248</td>\n",
              "      <td>240.998448</td>\n",
              "      <td>247.125443</td>\n",
              "      <td>184153000.0</td>\n",
              "      <td>0.00</td>\n",
              "      <td>0</td>\n",
              "    </tr>\n",
              "    <tr>\n",
              "      <th>2022-06-20</th>\n",
              "      <td>249.729918</td>\n",
              "      <td>267.412401</td>\n",
              "      <td>248.981506</td>\n",
              "      <td>267.132996</td>\n",
              "      <td>115652800.0</td>\n",
              "      <td>0.00</td>\n",
              "      <td>0</td>\n",
              "    </tr>\n",
              "    <tr>\n",
              "      <th>2022-06-27</th>\n",
              "      <td>267.641908</td>\n",
              "      <td>267.731714</td>\n",
              "      <td>252.364338</td>\n",
              "      <td>259.030182</td>\n",
              "      <td>126549000.0</td>\n",
              "      <td>0.00</td>\n",
              "      <td>0</td>\n",
              "    </tr>\n",
              "    <tr>\n",
              "      <th>2022-07-04</th>\n",
              "      <td>255.617437</td>\n",
              "      <td>268.490107</td>\n",
              "      <td>254.200446</td>\n",
              "      <td>267.093079</td>\n",
              "      <td>87284100.0</td>\n",
              "      <td>0.00</td>\n",
              "      <td>0</td>\n",
              "    </tr>\n",
              "    <tr>\n",
              "      <th>2022-07-11</th>\n",
              "      <td>265.087317</td>\n",
              "      <td>265.965458</td>\n",
              "      <td>245.419073</td>\n",
              "      <td>256.176239</td>\n",
              "      <td>139698000.0</td>\n",
              "      <td>0.00</td>\n",
              "      <td>0</td>\n",
              "    </tr>\n",
              "    <tr>\n",
              "      <th>2022-07-18</th>\n",
              "      <td>259.199809</td>\n",
              "      <td>264.767976</td>\n",
              "      <td>252.763474</td>\n",
              "      <td>259.808502</td>\n",
              "      <td>113061900.0</td>\n",
              "      <td>0.00</td>\n",
              "      <td>0</td>\n",
              "    </tr>\n",
              "    <tr>\n",
              "      <th>2022-07-25</th>\n",
              "      <td>260.447176</td>\n",
              "      <td>281.402696</td>\n",
              "      <td>249.041393</td>\n",
              "      <td>280.145355</td>\n",
              "      <td>171986700.0</td>\n",
              "      <td>0.00</td>\n",
              "      <td>0</td>\n",
              "    </tr>\n",
              "    <tr>\n",
              "      <th>2022-08-01</th>\n",
              "      <td>277.231545</td>\n",
              "      <td>283.198860</td>\n",
              "      <td>271.803066</td>\n",
              "      <td>282.310760</td>\n",
              "      <td>102679300.0</td>\n",
              "      <td>0.00</td>\n",
              "      <td>0</td>\n",
              "    </tr>\n",
              "    <tr>\n",
              "      <th>2022-08-08</th>\n",
              "      <td>283.448350</td>\n",
              "      <td>291.291718</td>\n",
              "      <td>277.021988</td>\n",
              "      <td>291.291718</td>\n",
              "      <td>109500000.0</td>\n",
              "      <td>0.00</td>\n",
              "      <td>0</td>\n",
              "    </tr>\n",
              "    <tr>\n",
              "      <th>2022-08-15</th>\n",
              "      <td>290.383617</td>\n",
              "      <td>293.556874</td>\n",
              "      <td>284.955138</td>\n",
              "      <td>285.543884</td>\n",
              "      <td>92185400.0</td>\n",
              "      <td>0.00</td>\n",
              "      <td>0</td>\n",
              "    </tr>\n",
              "    <tr>\n",
              "      <th>2022-08-17</th>\n",
              "      <td>NaN</td>\n",
              "      <td>NaN</td>\n",
              "      <td>NaN</td>\n",
              "      <td>NaN</td>\n",
              "      <td>NaN</td>\n",
              "      <td>0.62</td>\n",
              "      <td>0</td>\n",
              "    </tr>\n",
              "    <tr>\n",
              "      <th>2022-08-22</th>\n",
              "      <td>282.079987</td>\n",
              "      <td>282.459991</td>\n",
              "      <td>275.399994</td>\n",
              "      <td>276.440002</td>\n",
              "      <td>42574900.0</td>\n",
              "      <td>0.00</td>\n",
              "      <td>0</td>\n",
              "    </tr>\n",
              "    <tr>\n",
              "      <th>2022-08-23</th>\n",
              "      <td>276.440002</td>\n",
              "      <td>278.859985</td>\n",
              "      <td>275.410004</td>\n",
              "      <td>276.440002</td>\n",
              "      <td>17527409.0</td>\n",
              "      <td>0.00</td>\n",
              "      <td>0</td>\n",
              "    </tr>\n",
              "  </tbody>\n",
              "</table>\n",
              "</div>\n",
              "      <button class=\"colab-df-convert\" onclick=\"convertToInteractive('df-3583461f-5cc1-4793-9483-305303fd456a')\"\n",
              "              title=\"Convert this dataframe to an interactive table.\"\n",
              "              style=\"display:none;\">\n",
              "        \n",
              "  <svg xmlns=\"http://www.w3.org/2000/svg\" height=\"24px\"viewBox=\"0 0 24 24\"\n",
              "       width=\"24px\">\n",
              "    <path d=\"M0 0h24v24H0V0z\" fill=\"none\"/>\n",
              "    <path d=\"M18.56 5.44l.94 2.06.94-2.06 2.06-.94-2.06-.94-.94-2.06-.94 2.06-2.06.94zm-11 1L8.5 8.5l.94-2.06 2.06-.94-2.06-.94L8.5 2.5l-.94 2.06-2.06.94zm10 10l.94 2.06.94-2.06 2.06-.94-2.06-.94-.94-2.06-.94 2.06-2.06.94z\"/><path d=\"M17.41 7.96l-1.37-1.37c-.4-.4-.92-.59-1.43-.59-.52 0-1.04.2-1.43.59L10.3 9.45l-7.72 7.72c-.78.78-.78 2.05 0 2.83L4 21.41c.39.39.9.59 1.41.59.51 0 1.02-.2 1.41-.59l7.78-7.78 2.81-2.81c.8-.78.8-2.07 0-2.86zM5.41 20L4 18.59l7.72-7.72 1.47 1.35L5.41 20z\"/>\n",
              "  </svg>\n",
              "      </button>\n",
              "      \n",
              "  <style>\n",
              "    .colab-df-container {\n",
              "      display:flex;\n",
              "      flex-wrap:wrap;\n",
              "      gap: 12px;\n",
              "    }\n",
              "\n",
              "    .colab-df-convert {\n",
              "      background-color: #E8F0FE;\n",
              "      border: none;\n",
              "      border-radius: 50%;\n",
              "      cursor: pointer;\n",
              "      display: none;\n",
              "      fill: #1967D2;\n",
              "      height: 32px;\n",
              "      padding: 0 0 0 0;\n",
              "      width: 32px;\n",
              "    }\n",
              "\n",
              "    .colab-df-convert:hover {\n",
              "      background-color: #E2EBFA;\n",
              "      box-shadow: 0px 1px 2px rgba(60, 64, 67, 0.3), 0px 1px 3px 1px rgba(60, 64, 67, 0.15);\n",
              "      fill: #174EA6;\n",
              "    }\n",
              "\n",
              "    [theme=dark] .colab-df-convert {\n",
              "      background-color: #3B4455;\n",
              "      fill: #D2E3FC;\n",
              "    }\n",
              "\n",
              "    [theme=dark] .colab-df-convert:hover {\n",
              "      background-color: #434B5C;\n",
              "      box-shadow: 0px 1px 3px 1px rgba(0, 0, 0, 0.15);\n",
              "      filter: drop-shadow(0px 1px 2px rgba(0, 0, 0, 0.3));\n",
              "      fill: #FFFFFF;\n",
              "    }\n",
              "  </style>\n",
              "\n",
              "      <script>\n",
              "        const buttonEl =\n",
              "          document.querySelector('#df-3583461f-5cc1-4793-9483-305303fd456a button.colab-df-convert');\n",
              "        buttonEl.style.display =\n",
              "          google.colab.kernel.accessAllowed ? 'block' : 'none';\n",
              "\n",
              "        async function convertToInteractive(key) {\n",
              "          const element = document.querySelector('#df-3583461f-5cc1-4793-9483-305303fd456a');\n",
              "          const dataTable =\n",
              "            await google.colab.kernel.invokeFunction('convertToInteractive',\n",
              "                                                     [key], {});\n",
              "          if (!dataTable) return;\n",
              "\n",
              "          const docLinkHtml = 'Like what you see? Visit the ' +\n",
              "            '<a target=\"_blank\" href=https://colab.research.google.com/notebooks/data_table.ipynb>data table notebook</a>'\n",
              "            + ' to learn more about interactive tables.';\n",
              "          element.innerHTML = '';\n",
              "          dataTable['output_type'] = 'display_data';\n",
              "          await google.colab.output.renderOutput(dataTable, element);\n",
              "          const docLink = document.createElement('div');\n",
              "          docLink.innerHTML = docLinkHtml;\n",
              "          element.appendChild(docLink);\n",
              "        }\n",
              "      </script>\n",
              "    </div>\n",
              "  </div>\n",
              "  "
            ]
          },
          "metadata": {},
          "execution_count": 7
        }
      ]
    },
    {
      "cell_type": "markdown",
      "source": [
        "Same can be done to get financials, balance_sheet, cashflow, recommendations,\n",
        "sustainability, dividends, major_holders and so on using\n",
        "  ticker_name.property"
      ],
      "metadata": {
        "id": "kY7zkw9xVOxg"
      }
    },
    {
      "cell_type": "markdown",
      "source": [
        "Fetching data for ticker"
      ],
      "metadata": {
        "id": "eW8SgdWHWRRo"
      }
    },
    {
      "cell_type": "code",
      "source": [
        "data = yf.download(\"MSFT\", start=\"2022-01-01\", end=\"2022-06-30\")\n",
        "data.head()"
      ],
      "metadata": {
        "colab": {
          "base_uri": "https://localhost:8080/",
          "height": 255
        },
        "id": "TBy3UXMxVGZw",
        "outputId": "c911c72a-d9b6-47b7-fa0b-7cc9b4b13c11"
      },
      "execution_count": 9,
      "outputs": [
        {
          "output_type": "stream",
          "name": "stdout",
          "text": [
            "\r[*********************100%***********************]  1 of 1 completed\n"
          ]
        },
        {
          "output_type": "execute_result",
          "data": {
            "text/plain": [
              "                  Open        High         Low       Close   Adj Close  \\\n",
              "Date                                                                     \n",
              "2022-01-03  335.350006  338.000000  329.779999  334.750000  332.577087   \n",
              "2022-01-04  334.829987  335.200012  326.119995  329.010010  326.874359   \n",
              "2022-01-05  325.859985  326.070007  315.980011  316.380005  314.326324   \n",
              "2022-01-06  313.149994  318.700012  311.489990  313.880005  311.842560   \n",
              "2022-01-07  314.149994  316.500000  310.089996  314.040009  312.001526   \n",
              "\n",
              "              Volume  \n",
              "Date                  \n",
              "2022-01-03  28865100  \n",
              "2022-01-04  32674300  \n",
              "2022-01-05  40054300  \n",
              "2022-01-06  39646100  \n",
              "2022-01-07  32720000  "
            ],
            "text/html": [
              "\n",
              "  <div id=\"df-c39f717b-ee8b-4a29-952e-0865abf77d6c\">\n",
              "    <div class=\"colab-df-container\">\n",
              "      <div>\n",
              "<style scoped>\n",
              "    .dataframe tbody tr th:only-of-type {\n",
              "        vertical-align: middle;\n",
              "    }\n",
              "\n",
              "    .dataframe tbody tr th {\n",
              "        vertical-align: top;\n",
              "    }\n",
              "\n",
              "    .dataframe thead th {\n",
              "        text-align: right;\n",
              "    }\n",
              "</style>\n",
              "<table border=\"1\" class=\"dataframe\">\n",
              "  <thead>\n",
              "    <tr style=\"text-align: right;\">\n",
              "      <th></th>\n",
              "      <th>Open</th>\n",
              "      <th>High</th>\n",
              "      <th>Low</th>\n",
              "      <th>Close</th>\n",
              "      <th>Adj Close</th>\n",
              "      <th>Volume</th>\n",
              "    </tr>\n",
              "    <tr>\n",
              "      <th>Date</th>\n",
              "      <th></th>\n",
              "      <th></th>\n",
              "      <th></th>\n",
              "      <th></th>\n",
              "      <th></th>\n",
              "      <th></th>\n",
              "    </tr>\n",
              "  </thead>\n",
              "  <tbody>\n",
              "    <tr>\n",
              "      <th>2022-01-03</th>\n",
              "      <td>335.350006</td>\n",
              "      <td>338.000000</td>\n",
              "      <td>329.779999</td>\n",
              "      <td>334.750000</td>\n",
              "      <td>332.577087</td>\n",
              "      <td>28865100</td>\n",
              "    </tr>\n",
              "    <tr>\n",
              "      <th>2022-01-04</th>\n",
              "      <td>334.829987</td>\n",
              "      <td>335.200012</td>\n",
              "      <td>326.119995</td>\n",
              "      <td>329.010010</td>\n",
              "      <td>326.874359</td>\n",
              "      <td>32674300</td>\n",
              "    </tr>\n",
              "    <tr>\n",
              "      <th>2022-01-05</th>\n",
              "      <td>325.859985</td>\n",
              "      <td>326.070007</td>\n",
              "      <td>315.980011</td>\n",
              "      <td>316.380005</td>\n",
              "      <td>314.326324</td>\n",
              "      <td>40054300</td>\n",
              "    </tr>\n",
              "    <tr>\n",
              "      <th>2022-01-06</th>\n",
              "      <td>313.149994</td>\n",
              "      <td>318.700012</td>\n",
              "      <td>311.489990</td>\n",
              "      <td>313.880005</td>\n",
              "      <td>311.842560</td>\n",
              "      <td>39646100</td>\n",
              "    </tr>\n",
              "    <tr>\n",
              "      <th>2022-01-07</th>\n",
              "      <td>314.149994</td>\n",
              "      <td>316.500000</td>\n",
              "      <td>310.089996</td>\n",
              "      <td>314.040009</td>\n",
              "      <td>312.001526</td>\n",
              "      <td>32720000</td>\n",
              "    </tr>\n",
              "  </tbody>\n",
              "</table>\n",
              "</div>\n",
              "      <button class=\"colab-df-convert\" onclick=\"convertToInteractive('df-c39f717b-ee8b-4a29-952e-0865abf77d6c')\"\n",
              "              title=\"Convert this dataframe to an interactive table.\"\n",
              "              style=\"display:none;\">\n",
              "        \n",
              "  <svg xmlns=\"http://www.w3.org/2000/svg\" height=\"24px\"viewBox=\"0 0 24 24\"\n",
              "       width=\"24px\">\n",
              "    <path d=\"M0 0h24v24H0V0z\" fill=\"none\"/>\n",
              "    <path d=\"M18.56 5.44l.94 2.06.94-2.06 2.06-.94-2.06-.94-.94-2.06-.94 2.06-2.06.94zm-11 1L8.5 8.5l.94-2.06 2.06-.94-2.06-.94L8.5 2.5l-.94 2.06-2.06.94zm10 10l.94 2.06.94-2.06 2.06-.94-2.06-.94-.94-2.06-.94 2.06-2.06.94z\"/><path d=\"M17.41 7.96l-1.37-1.37c-.4-.4-.92-.59-1.43-.59-.52 0-1.04.2-1.43.59L10.3 9.45l-7.72 7.72c-.78.78-.78 2.05 0 2.83L4 21.41c.39.39.9.59 1.41.59.51 0 1.02-.2 1.41-.59l7.78-7.78 2.81-2.81c.8-.78.8-2.07 0-2.86zM5.41 20L4 18.59l7.72-7.72 1.47 1.35L5.41 20z\"/>\n",
              "  </svg>\n",
              "      </button>\n",
              "      \n",
              "  <style>\n",
              "    .colab-df-container {\n",
              "      display:flex;\n",
              "      flex-wrap:wrap;\n",
              "      gap: 12px;\n",
              "    }\n",
              "\n",
              "    .colab-df-convert {\n",
              "      background-color: #E8F0FE;\n",
              "      border: none;\n",
              "      border-radius: 50%;\n",
              "      cursor: pointer;\n",
              "      display: none;\n",
              "      fill: #1967D2;\n",
              "      height: 32px;\n",
              "      padding: 0 0 0 0;\n",
              "      width: 32px;\n",
              "    }\n",
              "\n",
              "    .colab-df-convert:hover {\n",
              "      background-color: #E2EBFA;\n",
              "      box-shadow: 0px 1px 2px rgba(60, 64, 67, 0.3), 0px 1px 3px 1px rgba(60, 64, 67, 0.15);\n",
              "      fill: #174EA6;\n",
              "    }\n",
              "\n",
              "    [theme=dark] .colab-df-convert {\n",
              "      background-color: #3B4455;\n",
              "      fill: #D2E3FC;\n",
              "    }\n",
              "\n",
              "    [theme=dark] .colab-df-convert:hover {\n",
              "      background-color: #434B5C;\n",
              "      box-shadow: 0px 1px 3px 1px rgba(0, 0, 0, 0.15);\n",
              "      filter: drop-shadow(0px 1px 2px rgba(0, 0, 0, 0.3));\n",
              "      fill: #FFFFFF;\n",
              "    }\n",
              "  </style>\n",
              "\n",
              "      <script>\n",
              "        const buttonEl =\n",
              "          document.querySelector('#df-c39f717b-ee8b-4a29-952e-0865abf77d6c button.colab-df-convert');\n",
              "        buttonEl.style.display =\n",
              "          google.colab.kernel.accessAllowed ? 'block' : 'none';\n",
              "\n",
              "        async function convertToInteractive(key) {\n",
              "          const element = document.querySelector('#df-c39f717b-ee8b-4a29-952e-0865abf77d6c');\n",
              "          const dataTable =\n",
              "            await google.colab.kernel.invokeFunction('convertToInteractive',\n",
              "                                                     [key], {});\n",
              "          if (!dataTable) return;\n",
              "\n",
              "          const docLinkHtml = 'Like what you see? Visit the ' +\n",
              "            '<a target=\"_blank\" href=https://colab.research.google.com/notebooks/data_table.ipynb>data table notebook</a>'\n",
              "            + ' to learn more about interactive tables.';\n",
              "          element.innerHTML = '';\n",
              "          dataTable['output_type'] = 'display_data';\n",
              "          await google.colab.output.renderOutput(dataTable, element);\n",
              "          const docLink = document.createElement('div');\n",
              "          docLink.innerHTML = docLinkHtml;\n",
              "          element.appendChild(docLink);\n",
              "        }\n",
              "      </script>\n",
              "    </div>\n",
              "  </div>\n",
              "  "
            ]
          },
          "metadata": {},
          "execution_count": 9
        }
      ]
    },
    {
      "cell_type": "markdown",
      "source": [
        "To initialize multiple Ticker "
      ],
      "metadata": {
        "id": "ufxCxVjaWIDI"
      }
    },
    {
      "cell_type": "code",
      "source": [
        "tickers = yf.Tickers('MSFT GOOG AMZN AAPL')\n"
      ],
      "metadata": {
        "id": "IZfrA0xPW9SR"
      },
      "execution_count": 15,
      "outputs": []
    },
    {
      "cell_type": "markdown",
      "source": [
        "Fetching data for multiple tickers"
      ],
      "metadata": {
        "id": "2oow6qGZX-TO"
      }
    },
    {
      "cell_type": "code",
      "source": [
        "dt = yf.download(\"GOOG AAPL\", start=\"2022-01-01\", end=\"2022-06-30\")\n",
        "dt.head()"
      ],
      "metadata": {
        "colab": {
          "base_uri": "https://localhost:8080/",
          "height": 437
        },
        "id": "6ba8RCBlXFe7",
        "outputId": "4b291fdc-2745-4981-975f-d989cdc9f48d"
      },
      "execution_count": 30,
      "outputs": [
        {
          "output_type": "stream",
          "name": "stdout",
          "text": [
            "[*********************100%***********************]  2 of 2 completed\n"
          ]
        },
        {
          "output_type": "execute_result",
          "data": {
            "text/plain": [
              "             Adj Close                   Close                    High  \\\n",
              "                  AAPL        GOOG        AAPL        GOOG        AAPL   \n",
              "Date                                                                     \n",
              "2022-01-03  181.259933  145.074493  182.009995  145.074493  182.880005   \n",
              "2022-01-04  178.959457  144.416504  179.699997  144.416504  182.940002   \n",
              "2022-01-05  174.199142  137.653503  174.919998  137.653503  180.169998   \n",
              "2022-01-06  171.291183  137.550995  172.000000  137.550995  175.300003   \n",
              "2022-01-07  171.460495  137.004501  172.169998  137.004501  174.139999   \n",
              "\n",
              "                               Low                    Open              \\\n",
              "                  GOOG        AAPL        GOOG        AAPL        GOOG   \n",
              "Date                                                                     \n",
              "2022-01-03  145.550003  177.710007  143.502502  177.830002  144.475494   \n",
              "2022-01-04  146.610001  179.119995  143.816147  182.630005  145.550507   \n",
              "2022-01-05  144.298004  174.639999  137.523499  179.610001  144.181000   \n",
              "2022-01-06  139.686005  171.639999  136.763504  172.699997  137.497498   \n",
              "2022-01-07  138.254745  171.029999  135.789001  172.889999  137.904999   \n",
              "\n",
              "               Volume            \n",
              "                 AAPL      GOOG  \n",
              "Date                             \n",
              "2022-01-03  104487900  25214000  \n",
              "2022-01-04   99310400  22928000  \n",
              "2022-01-05   94537600  49642000  \n",
              "2022-01-06   96904000  29050000  \n",
              "2022-01-07   86709100  19408000  "
            ],
            "text/html": [
              "\n",
              "  <div id=\"df-50db9337-6781-41b0-a721-323e8936c52c\">\n",
              "    <div class=\"colab-df-container\">\n",
              "      <div>\n",
              "<style scoped>\n",
              "    .dataframe tbody tr th:only-of-type {\n",
              "        vertical-align: middle;\n",
              "    }\n",
              "\n",
              "    .dataframe tbody tr th {\n",
              "        vertical-align: top;\n",
              "    }\n",
              "\n",
              "    .dataframe thead tr th {\n",
              "        text-align: left;\n",
              "    }\n",
              "\n",
              "    .dataframe thead tr:last-of-type th {\n",
              "        text-align: right;\n",
              "    }\n",
              "</style>\n",
              "<table border=\"1\" class=\"dataframe\">\n",
              "  <thead>\n",
              "    <tr>\n",
              "      <th></th>\n",
              "      <th colspan=\"2\" halign=\"left\">Adj Close</th>\n",
              "      <th colspan=\"2\" halign=\"left\">Close</th>\n",
              "      <th colspan=\"2\" halign=\"left\">High</th>\n",
              "      <th colspan=\"2\" halign=\"left\">Low</th>\n",
              "      <th colspan=\"2\" halign=\"left\">Open</th>\n",
              "      <th colspan=\"2\" halign=\"left\">Volume</th>\n",
              "    </tr>\n",
              "    <tr>\n",
              "      <th></th>\n",
              "      <th>AAPL</th>\n",
              "      <th>GOOG</th>\n",
              "      <th>AAPL</th>\n",
              "      <th>GOOG</th>\n",
              "      <th>AAPL</th>\n",
              "      <th>GOOG</th>\n",
              "      <th>AAPL</th>\n",
              "      <th>GOOG</th>\n",
              "      <th>AAPL</th>\n",
              "      <th>GOOG</th>\n",
              "      <th>AAPL</th>\n",
              "      <th>GOOG</th>\n",
              "    </tr>\n",
              "    <tr>\n",
              "      <th>Date</th>\n",
              "      <th></th>\n",
              "      <th></th>\n",
              "      <th></th>\n",
              "      <th></th>\n",
              "      <th></th>\n",
              "      <th></th>\n",
              "      <th></th>\n",
              "      <th></th>\n",
              "      <th></th>\n",
              "      <th></th>\n",
              "      <th></th>\n",
              "      <th></th>\n",
              "    </tr>\n",
              "  </thead>\n",
              "  <tbody>\n",
              "    <tr>\n",
              "      <th>2022-01-03</th>\n",
              "      <td>181.259933</td>\n",
              "      <td>145.074493</td>\n",
              "      <td>182.009995</td>\n",
              "      <td>145.074493</td>\n",
              "      <td>182.880005</td>\n",
              "      <td>145.550003</td>\n",
              "      <td>177.710007</td>\n",
              "      <td>143.502502</td>\n",
              "      <td>177.830002</td>\n",
              "      <td>144.475494</td>\n",
              "      <td>104487900</td>\n",
              "      <td>25214000</td>\n",
              "    </tr>\n",
              "    <tr>\n",
              "      <th>2022-01-04</th>\n",
              "      <td>178.959457</td>\n",
              "      <td>144.416504</td>\n",
              "      <td>179.699997</td>\n",
              "      <td>144.416504</td>\n",
              "      <td>182.940002</td>\n",
              "      <td>146.610001</td>\n",
              "      <td>179.119995</td>\n",
              "      <td>143.816147</td>\n",
              "      <td>182.630005</td>\n",
              "      <td>145.550507</td>\n",
              "      <td>99310400</td>\n",
              "      <td>22928000</td>\n",
              "    </tr>\n",
              "    <tr>\n",
              "      <th>2022-01-05</th>\n",
              "      <td>174.199142</td>\n",
              "      <td>137.653503</td>\n",
              "      <td>174.919998</td>\n",
              "      <td>137.653503</td>\n",
              "      <td>180.169998</td>\n",
              "      <td>144.298004</td>\n",
              "      <td>174.639999</td>\n",
              "      <td>137.523499</td>\n",
              "      <td>179.610001</td>\n",
              "      <td>144.181000</td>\n",
              "      <td>94537600</td>\n",
              "      <td>49642000</td>\n",
              "    </tr>\n",
              "    <tr>\n",
              "      <th>2022-01-06</th>\n",
              "      <td>171.291183</td>\n",
              "      <td>137.550995</td>\n",
              "      <td>172.000000</td>\n",
              "      <td>137.550995</td>\n",
              "      <td>175.300003</td>\n",
              "      <td>139.686005</td>\n",
              "      <td>171.639999</td>\n",
              "      <td>136.763504</td>\n",
              "      <td>172.699997</td>\n",
              "      <td>137.497498</td>\n",
              "      <td>96904000</td>\n",
              "      <td>29050000</td>\n",
              "    </tr>\n",
              "    <tr>\n",
              "      <th>2022-01-07</th>\n",
              "      <td>171.460495</td>\n",
              "      <td>137.004501</td>\n",
              "      <td>172.169998</td>\n",
              "      <td>137.004501</td>\n",
              "      <td>174.139999</td>\n",
              "      <td>138.254745</td>\n",
              "      <td>171.029999</td>\n",
              "      <td>135.789001</td>\n",
              "      <td>172.889999</td>\n",
              "      <td>137.904999</td>\n",
              "      <td>86709100</td>\n",
              "      <td>19408000</td>\n",
              "    </tr>\n",
              "  </tbody>\n",
              "</table>\n",
              "</div>\n",
              "      <button class=\"colab-df-convert\" onclick=\"convertToInteractive('df-50db9337-6781-41b0-a721-323e8936c52c')\"\n",
              "              title=\"Convert this dataframe to an interactive table.\"\n",
              "              style=\"display:none;\">\n",
              "        \n",
              "  <svg xmlns=\"http://www.w3.org/2000/svg\" height=\"24px\"viewBox=\"0 0 24 24\"\n",
              "       width=\"24px\">\n",
              "    <path d=\"M0 0h24v24H0V0z\" fill=\"none\"/>\n",
              "    <path d=\"M18.56 5.44l.94 2.06.94-2.06 2.06-.94-2.06-.94-.94-2.06-.94 2.06-2.06.94zm-11 1L8.5 8.5l.94-2.06 2.06-.94-2.06-.94L8.5 2.5l-.94 2.06-2.06.94zm10 10l.94 2.06.94-2.06 2.06-.94-2.06-.94-.94-2.06-.94 2.06-2.06.94z\"/><path d=\"M17.41 7.96l-1.37-1.37c-.4-.4-.92-.59-1.43-.59-.52 0-1.04.2-1.43.59L10.3 9.45l-7.72 7.72c-.78.78-.78 2.05 0 2.83L4 21.41c.39.39.9.59 1.41.59.51 0 1.02-.2 1.41-.59l7.78-7.78 2.81-2.81c.8-.78.8-2.07 0-2.86zM5.41 20L4 18.59l7.72-7.72 1.47 1.35L5.41 20z\"/>\n",
              "  </svg>\n",
              "      </button>\n",
              "      \n",
              "  <style>\n",
              "    .colab-df-container {\n",
              "      display:flex;\n",
              "      flex-wrap:wrap;\n",
              "      gap: 12px;\n",
              "    }\n",
              "\n",
              "    .colab-df-convert {\n",
              "      background-color: #E8F0FE;\n",
              "      border: none;\n",
              "      border-radius: 50%;\n",
              "      cursor: pointer;\n",
              "      display: none;\n",
              "      fill: #1967D2;\n",
              "      height: 32px;\n",
              "      padding: 0 0 0 0;\n",
              "      width: 32px;\n",
              "    }\n",
              "\n",
              "    .colab-df-convert:hover {\n",
              "      background-color: #E2EBFA;\n",
              "      box-shadow: 0px 1px 2px rgba(60, 64, 67, 0.3), 0px 1px 3px 1px rgba(60, 64, 67, 0.15);\n",
              "      fill: #174EA6;\n",
              "    }\n",
              "\n",
              "    [theme=dark] .colab-df-convert {\n",
              "      background-color: #3B4455;\n",
              "      fill: #D2E3FC;\n",
              "    }\n",
              "\n",
              "    [theme=dark] .colab-df-convert:hover {\n",
              "      background-color: #434B5C;\n",
              "      box-shadow: 0px 1px 3px 1px rgba(0, 0, 0, 0.15);\n",
              "      filter: drop-shadow(0px 1px 2px rgba(0, 0, 0, 0.3));\n",
              "      fill: #FFFFFF;\n",
              "    }\n",
              "  </style>\n",
              "\n",
              "      <script>\n",
              "        const buttonEl =\n",
              "          document.querySelector('#df-50db9337-6781-41b0-a721-323e8936c52c button.colab-df-convert');\n",
              "        buttonEl.style.display =\n",
              "          google.colab.kernel.accessAllowed ? 'block' : 'none';\n",
              "\n",
              "        async function convertToInteractive(key) {\n",
              "          const element = document.querySelector('#df-50db9337-6781-41b0-a721-323e8936c52c');\n",
              "          const dataTable =\n",
              "            await google.colab.kernel.invokeFunction('convertToInteractive',\n",
              "                                                     [key], {});\n",
              "          if (!dataTable) return;\n",
              "\n",
              "          const docLinkHtml = 'Like what you see? Visit the ' +\n",
              "            '<a target=\"_blank\" href=https://colab.research.google.com/notebooks/data_table.ipynb>data table notebook</a>'\n",
              "            + ' to learn more about interactive tables.';\n",
              "          element.innerHTML = '';\n",
              "          dataTable['output_type'] = 'display_data';\n",
              "          await google.colab.output.renderOutput(dataTable, element);\n",
              "          const docLink = document.createElement('div');\n",
              "          docLink.innerHTML = docLinkHtml;\n",
              "          element.appendChild(docLink);\n",
              "        }\n",
              "      </script>\n",
              "    </div>\n",
              "  </div>\n",
              "  "
            ]
          },
          "metadata": {},
          "execution_count": 30
        }
      ]
    },
    {
      "cell_type": "code",
      "source": [
        "symbol = 'AMZN'\n",
        "start_date = '2021-01-01'\n",
        "end_date = '2021-01-31'\n",
        "period = \"1mo\"\n",
        "interval = \"1d\"\n",
        "\n",
        "data = yf.download(tickers=symbol, period=period, interval=interval,start = start_date, end = end_date)\n",
        "print(data.head())"
      ],
      "metadata": {
        "colab": {
          "base_uri": "https://localhost:8080/"
        },
        "id": "qmkCQGoiaTjw",
        "outputId": "5d5ea75d-d480-461b-a5a0-98ef26eb441d"
      },
      "execution_count": 24,
      "outputs": [
        {
          "output_type": "stream",
          "name": "stdout",
          "text": [
            "\r[*********************100%***********************]  1 of 1 completed\n",
            "                  Open        High         Low       Close   Adj Close  \\\n",
            "Date                                                                     \n",
            "2021-01-04  163.500000  163.600006  157.201004  159.331497  159.331497   \n",
            "2021-01-05  158.300507  161.169006  158.253006  160.925507  160.925507   \n",
            "2021-01-06  157.324005  159.875504  156.557999  156.919006  156.919006   \n",
            "2021-01-07  157.850006  160.427002  157.750000  158.108002  158.108002   \n",
            "2021-01-08  159.000000  159.531998  157.110001  159.134995  159.134995   \n",
            "\n",
            "              Volume  \n",
            "Date                  \n",
            "2021-01-04  88228000  \n",
            "2021-01-05  53110000  \n",
            "2021-01-06  87896000  \n",
            "2021-01-07  70290000  \n",
            "2021-01-08  70754000  \n"
          ]
        }
      ]
    },
    {
      "cell_type": "markdown",
      "source": [
        "Writing fetched data to a csv file"
      ],
      "metadata": {
        "id": "d71PyddEYpEy"
      }
    },
    {
      "cell_type": "code",
      "source": [
        "tesla = yf.download('TSLA', start='2010-06-29', end='2022-03-18', progress=True)\n",
        "tesla.to_csv('Tesla_Stock_Price.csv')"
      ],
      "metadata": {
        "colab": {
          "base_uri": "https://localhost:8080/"
        },
        "id": "4xPchtlCYcE8",
        "outputId": "4de0da8a-e558-44c2-9766-85a9c6338eb8"
      },
      "execution_count": 20,
      "outputs": [
        {
          "output_type": "stream",
          "name": "stdout",
          "text": [
            "\r[*********************100%***********************]  1 of 1 completed\n"
          ]
        }
      ]
    },
    {
      "cell_type": "markdown",
      "source": [
        "Lowercase column name"
      ],
      "metadata": {
        "id": "NzjVAUFCai90"
      }
    },
    {
      "cell_type": "code",
      "source": [
        "data = data.rename(columns=str.lower)\n",
        "print(data.head())"
      ],
      "metadata": {
        "colab": {
          "base_uri": "https://localhost:8080/"
        },
        "id": "31oMFPZ0aEsb",
        "outputId": "e3cf32b4-cc35-49a4-924c-77d181c8a70b"
      },
      "execution_count": 25,
      "outputs": [
        {
          "output_type": "stream",
          "name": "stdout",
          "text": [
            "                  open        high         low       close   adj close  \\\n",
            "Date                                                                     \n",
            "2021-01-04  163.500000  163.600006  157.201004  159.331497  159.331497   \n",
            "2021-01-05  158.300507  161.169006  158.253006  160.925507  160.925507   \n",
            "2021-01-06  157.324005  159.875504  156.557999  156.919006  156.919006   \n",
            "2021-01-07  157.850006  160.427002  157.750000  158.108002  158.108002   \n",
            "2021-01-08  159.000000  159.531998  157.110001  159.134995  159.134995   \n",
            "\n",
            "              volume  \n",
            "Date                  \n",
            "2021-01-04  88228000  \n",
            "2021-01-05  53110000  \n",
            "2021-01-06  87896000  \n",
            "2021-01-07  70290000  \n",
            "2021-01-08  70754000  \n"
          ]
        }
      ]
    },
    {
      "cell_type": "markdown",
      "source": [
        "Drop columns from data"
      ],
      "metadata": {
        "id": "maUGCaWca8BD"
      }
    },
    {
      "cell_type": "code",
      "source": [
        "df = data.drop(['adj close'], axis=1)\n",
        "df.head()"
      ],
      "metadata": {
        "colab": {
          "base_uri": "https://localhost:8080/",
          "height": 238
        },
        "id": "BgEMbGzda4Xy",
        "outputId": "aaf30734-44f1-490c-f20f-57b43318a7cd"
      },
      "execution_count": 27,
      "outputs": [
        {
          "output_type": "execute_result",
          "data": {
            "text/plain": [
              "                  open        high         low       close    volume\n",
              "Date                                                                \n",
              "2021-01-04  163.500000  163.600006  157.201004  159.331497  88228000\n",
              "2021-01-05  158.300507  161.169006  158.253006  160.925507  53110000\n",
              "2021-01-06  157.324005  159.875504  156.557999  156.919006  87896000\n",
              "2021-01-07  157.850006  160.427002  157.750000  158.108002  70290000\n",
              "2021-01-08  159.000000  159.531998  157.110001  159.134995  70754000"
            ],
            "text/html": [
              "\n",
              "  <div id=\"df-e17acc13-3fda-427d-a3be-8d507e61d118\">\n",
              "    <div class=\"colab-df-container\">\n",
              "      <div>\n",
              "<style scoped>\n",
              "    .dataframe tbody tr th:only-of-type {\n",
              "        vertical-align: middle;\n",
              "    }\n",
              "\n",
              "    .dataframe tbody tr th {\n",
              "        vertical-align: top;\n",
              "    }\n",
              "\n",
              "    .dataframe thead th {\n",
              "        text-align: right;\n",
              "    }\n",
              "</style>\n",
              "<table border=\"1\" class=\"dataframe\">\n",
              "  <thead>\n",
              "    <tr style=\"text-align: right;\">\n",
              "      <th></th>\n",
              "      <th>open</th>\n",
              "      <th>high</th>\n",
              "      <th>low</th>\n",
              "      <th>close</th>\n",
              "      <th>volume</th>\n",
              "    </tr>\n",
              "    <tr>\n",
              "      <th>Date</th>\n",
              "      <th></th>\n",
              "      <th></th>\n",
              "      <th></th>\n",
              "      <th></th>\n",
              "      <th></th>\n",
              "    </tr>\n",
              "  </thead>\n",
              "  <tbody>\n",
              "    <tr>\n",
              "      <th>2021-01-04</th>\n",
              "      <td>163.500000</td>\n",
              "      <td>163.600006</td>\n",
              "      <td>157.201004</td>\n",
              "      <td>159.331497</td>\n",
              "      <td>88228000</td>\n",
              "    </tr>\n",
              "    <tr>\n",
              "      <th>2021-01-05</th>\n",
              "      <td>158.300507</td>\n",
              "      <td>161.169006</td>\n",
              "      <td>158.253006</td>\n",
              "      <td>160.925507</td>\n",
              "      <td>53110000</td>\n",
              "    </tr>\n",
              "    <tr>\n",
              "      <th>2021-01-06</th>\n",
              "      <td>157.324005</td>\n",
              "      <td>159.875504</td>\n",
              "      <td>156.557999</td>\n",
              "      <td>156.919006</td>\n",
              "      <td>87896000</td>\n",
              "    </tr>\n",
              "    <tr>\n",
              "      <th>2021-01-07</th>\n",
              "      <td>157.850006</td>\n",
              "      <td>160.427002</td>\n",
              "      <td>157.750000</td>\n",
              "      <td>158.108002</td>\n",
              "      <td>70290000</td>\n",
              "    </tr>\n",
              "    <tr>\n",
              "      <th>2021-01-08</th>\n",
              "      <td>159.000000</td>\n",
              "      <td>159.531998</td>\n",
              "      <td>157.110001</td>\n",
              "      <td>159.134995</td>\n",
              "      <td>70754000</td>\n",
              "    </tr>\n",
              "  </tbody>\n",
              "</table>\n",
              "</div>\n",
              "      <button class=\"colab-df-convert\" onclick=\"convertToInteractive('df-e17acc13-3fda-427d-a3be-8d507e61d118')\"\n",
              "              title=\"Convert this dataframe to an interactive table.\"\n",
              "              style=\"display:none;\">\n",
              "        \n",
              "  <svg xmlns=\"http://www.w3.org/2000/svg\" height=\"24px\"viewBox=\"0 0 24 24\"\n",
              "       width=\"24px\">\n",
              "    <path d=\"M0 0h24v24H0V0z\" fill=\"none\"/>\n",
              "    <path d=\"M18.56 5.44l.94 2.06.94-2.06 2.06-.94-2.06-.94-.94-2.06-.94 2.06-2.06.94zm-11 1L8.5 8.5l.94-2.06 2.06-.94-2.06-.94L8.5 2.5l-.94 2.06-2.06.94zm10 10l.94 2.06.94-2.06 2.06-.94-2.06-.94-.94-2.06-.94 2.06-2.06.94z\"/><path d=\"M17.41 7.96l-1.37-1.37c-.4-.4-.92-.59-1.43-.59-.52 0-1.04.2-1.43.59L10.3 9.45l-7.72 7.72c-.78.78-.78 2.05 0 2.83L4 21.41c.39.39.9.59 1.41.59.51 0 1.02-.2 1.41-.59l7.78-7.78 2.81-2.81c.8-.78.8-2.07 0-2.86zM5.41 20L4 18.59l7.72-7.72 1.47 1.35L5.41 20z\"/>\n",
              "  </svg>\n",
              "      </button>\n",
              "      \n",
              "  <style>\n",
              "    .colab-df-container {\n",
              "      display:flex;\n",
              "      flex-wrap:wrap;\n",
              "      gap: 12px;\n",
              "    }\n",
              "\n",
              "    .colab-df-convert {\n",
              "      background-color: #E8F0FE;\n",
              "      border: none;\n",
              "      border-radius: 50%;\n",
              "      cursor: pointer;\n",
              "      display: none;\n",
              "      fill: #1967D2;\n",
              "      height: 32px;\n",
              "      padding: 0 0 0 0;\n",
              "      width: 32px;\n",
              "    }\n",
              "\n",
              "    .colab-df-convert:hover {\n",
              "      background-color: #E2EBFA;\n",
              "      box-shadow: 0px 1px 2px rgba(60, 64, 67, 0.3), 0px 1px 3px 1px rgba(60, 64, 67, 0.15);\n",
              "      fill: #174EA6;\n",
              "    }\n",
              "\n",
              "    [theme=dark] .colab-df-convert {\n",
              "      background-color: #3B4455;\n",
              "      fill: #D2E3FC;\n",
              "    }\n",
              "\n",
              "    [theme=dark] .colab-df-convert:hover {\n",
              "      background-color: #434B5C;\n",
              "      box-shadow: 0px 1px 3px 1px rgba(0, 0, 0, 0.15);\n",
              "      filter: drop-shadow(0px 1px 2px rgba(0, 0, 0, 0.3));\n",
              "      fill: #FFFFFF;\n",
              "    }\n",
              "  </style>\n",
              "\n",
              "      <script>\n",
              "        const buttonEl =\n",
              "          document.querySelector('#df-e17acc13-3fda-427d-a3be-8d507e61d118 button.colab-df-convert');\n",
              "        buttonEl.style.display =\n",
              "          google.colab.kernel.accessAllowed ? 'block' : 'none';\n",
              "\n",
              "        async function convertToInteractive(key) {\n",
              "          const element = document.querySelector('#df-e17acc13-3fda-427d-a3be-8d507e61d118');\n",
              "          const dataTable =\n",
              "            await google.colab.kernel.invokeFunction('convertToInteractive',\n",
              "                                                     [key], {});\n",
              "          if (!dataTable) return;\n",
              "\n",
              "          const docLinkHtml = 'Like what you see? Visit the ' +\n",
              "            '<a target=\"_blank\" href=https://colab.research.google.com/notebooks/data_table.ipynb>data table notebook</a>'\n",
              "            + ' to learn more about interactive tables.';\n",
              "          element.innerHTML = '';\n",
              "          dataTable['output_type'] = 'display_data';\n",
              "          await google.colab.output.renderOutput(dataTable, element);\n",
              "          const docLink = document.createElement('div');\n",
              "          docLink.innerHTML = docLinkHtml;\n",
              "          element.appendChild(docLink);\n",
              "        }\n",
              "      </script>\n",
              "    </div>\n",
              "  </div>\n",
              "  "
            ]
          },
          "metadata": {},
          "execution_count": 27
        }
      ]
    },
    {
      "cell_type": "markdown",
      "source": [
        "Store data in csv uniquely"
      ],
      "metadata": {
        "id": "0RExEoskbPWH"
      }
    },
    {
      "cell_type": "code",
      "source": [
        "df.to_csv(f\"{symbol}_{start_date}_{end_date}.csv\")"
      ],
      "metadata": {
        "id": "DLIOC1DkbFjL"
      },
      "execution_count": 28,
      "outputs": []
    },
    {
      "cell_type": "markdown",
      "source": [
        "Ploting data for multiple ticker"
      ],
      "metadata": {
        "id": "g0ocihFQcI3g"
      }
    },
    {
      "cell_type": "code",
      "source": [
        "dt.plot()"
      ],
      "metadata": {
        "colab": {
          "base_uri": "https://localhost:8080/",
          "height": 305
        },
        "id": "VjzPuVtvbwW0",
        "outputId": "7c65ebfd-92d9-4735-ad99-0ee1b17a8700"
      },
      "execution_count": 31,
      "outputs": [
        {
          "output_type": "execute_result",
          "data": {
            "text/plain": [
              "<matplotlib.axes._subplots.AxesSubplot at 0x7fc9eb782810>"
            ]
          },
          "metadata": {},
          "execution_count": 31
        },
        {
          "output_type": "display_data",
          "data": {
            "text/plain": [
              "<Figure size 432x288 with 1 Axes>"
            ],
            "image/png": "[encoded data removed]"
          },
          "metadata": {
            "needs_background": "light"
          }
        }
      ]
    },
    {
      "cell_type": "markdown",
      "source": [
        "example 1: Fetch data from yfinance library and make column names all lowercase, remove unnecessary columns like \"adj close\" and save this data in a specific folder with specific name with .csv format"
      ],
      "metadata": {
        "id": "IgKOLSludRxI"
      }
    },
    {
      "cell_type": "code",
      "source": [
        "df1 = yf.download(\"AAPL\",start='2022-01-01', end='2022-06-30', interval= '1wk')\n",
        "df1 = data.drop(['adj close'], axis=1)\n",
        "print(df.head())\n",
        "df1.to_csv(f\"{symbol}_{interval}_{start_date}_{end_date}.csv\")"
      ],
      "metadata": {
        "colab": {
          "base_uri": "https://localhost:8080/"
        },
        "id": "6_TACQ2Vd3g1",
        "outputId": "66f2c44d-02c9-4aa9-bdbc-5908571820d5"
      },
      "execution_count": 35,
      "outputs": [
        {
          "output_type": "stream",
          "name": "stdout",
          "text": [
            "\r[*********************100%***********************]  1 of 1 completed\n",
            "                  open        high         low       close    volume\n",
            "Date                                                                \n",
            "2021-01-04  163.500000  163.600006  157.201004  159.331497  88228000\n",
            "2021-01-05  158.300507  161.169006  158.253006  160.925507  53110000\n",
            "2021-01-06  157.324005  159.875504  156.557999  156.919006  87896000\n",
            "2021-01-07  157.850006  160.427002  157.750000  158.108002  70290000\n",
            "2021-01-08  159.000000  159.531998  157.110001  159.134995  70754000\n"
          ]
        }
      ]
    },
    {
      "cell_type": "markdown",
      "source": [
        "example 2: Read specific stock data from specific folder and add a new column in the data where if close > open then store green or if close < open then store red. "
      ],
      "metadata": {
        "id": "GjK00V-mgDkA"
      }
    },
    {
      "cell_type": "code",
      "source": [
        "df2 = pd.read_csv(f\"AMZN_2021-01-01_2021-01-31.csv\")\n",
        "df2['color'] = np.where(df2['close'] > df2['open'],'green','red')\n",
        "print(df2.head())"
      ],
      "metadata": {
        "colab": {
          "base_uri": "https://localhost:8080/"
        },
        "id": "QS2_Q4_8fnxe",
        "outputId": "1d68bc38-0fec-45a8-9f26-63c7589a647f"
      },
      "execution_count": 37,
      "outputs": [
        {
          "output_type": "stream",
          "name": "stdout",
          "text": [
            "         Date        open        high         low       close    volume  color\n",
            "0  2021-01-04  163.500000  163.600006  157.201004  159.331497  88228000    red\n",
            "1  2021-01-05  158.300507  161.169006  158.253006  160.925507  53110000  green\n",
            "2  2021-01-06  157.324005  159.875504  156.557999  156.919006  87896000    red\n",
            "3  2021-01-07  157.850006  160.427002  157.750000  158.108002  70290000  green\n",
            "4  2021-01-08  159.000000  159.531998  157.110001  159.134995  70754000  green\n"
          ]
        }
      ]
    },
    {
      "cell_type": "code",
      "source": [
        ""
      ],
      "metadata": {
        "id": "4qQJoRUOvA8J"
      },
      "execution_count": null,
      "outputs": []
    },
    {
      "cell_type": "markdown",
      "source": [
        "example 3: From the file named 'example3.csv'. There are 2 series s1 and s2. you have to \n",
        "- Count how many times s1 crossabove s2\n",
        "- Count how many times s1 crossbelow s2\n",
        "- Count how many times s1 cross s2\n",
        "and detect at which date and time this happen and return a list of datetime."
      ],
      "metadata": {
        "id": "722Vha2yiPBW"
      }
    },
    {
      "cell_type": "code",
      "source": [
        "df3 =pd.read_csv(f\"example3.csv\") \n",
        "df3.head()\n",
        "df3.rename(columns={'0': 's1'}, inplace=True)\n",
        "df3.rename(columns={'1': 's2'}, inplace=True)\n",
        "print(df3.head())"
      ],
      "metadata": {
        "colab": {
          "base_uri": "https://localhost:8080/"
        },
        "id": "0HOI3X40hkRZ",
        "outputId": "3e8bd059-e437-41d8-85f9-1bac621e8004"
      },
      "execution_count": 39,
      "outputs": [
        {
          "output_type": "stream",
          "name": "stdout",
          "text": [
            "                    Datetime  s1  s2\n",
            "0  2022-01-05 09:30:00-05:00 NaN NaN\n",
            "1  2022-01-05 09:31:00-05:00 NaN NaN\n",
            "2  2022-01-05 09:32:00-05:00 NaN NaN\n",
            "3  2022-01-05 09:33:00-05:00 NaN NaN\n",
            "4  2022-01-05 09:34:00-05:00 NaN NaN\n"
          ]
        }
      ]
    },
    {
      "cell_type": "markdown",
      "source": [
        "Cross Above"
      ],
      "metadata": {
        "id": "J5wr1SNRsmMA"
      }
    },
    {
      "cell_type": "code",
      "source": [
        "previous_s1 = df3['s1'].shift(1)\n",
        "previous_s2 = df3['s2'].shift(1)\n",
        "cross_over = (((df3['s1'] >= df3['s2']) & (previous_s1 >= previous_s2)) | ((df3['s1'] >= df3['s2']) & (previous_s1 <= previous_s2)))\n",
        "cross_above_dates = df3['Datetime'].loc[cross_over]\n",
        "print(\"Cross above count\", cross_above_dates.count())\n",
        "cross_above_list = cross_above_dates.values.tolist()\n",
        "print(cross_above_list)"
      ],
      "metadata": {
        "colab": {
          "base_uri": "https://localhost:8080/"
        },
        "id": "7t_VZfWhsper",
        "outputId": "b3e3b0ad-14c6-4b0b-bba8-d687bab857dc"
      },
      "execution_count": 42,
      "outputs": [
        {
          "output_type": "stream",
          "name": "stdout",
          "text": [
            "Cross above count 240\n",
            "['2022-01-05 09:56:00-05:00', '2022-01-05 09:57:00-05:00', '2022-01-05 09:58:00-05:00', '2022-01-05 09:59:00-05:00', '2022-01-05 10:00:00-05:00', '2022-01-05 10:01:00-05:00', '2022-01-05 10:02:00-05:00', '2022-01-05 10:03:00-05:00', '2022-01-05 10:04:00-05:00', '2022-01-05 10:05:00-05:00', '2022-01-05 10:06:00-05:00', '2022-01-05 10:07:00-05:00', '2022-01-05 10:08:00-05:00', '2022-01-05 10:09:00-05:00', '2022-01-05 10:10:00-05:00', '2022-01-05 10:11:00-05:00', '2022-01-05 10:12:00-05:00', '2022-01-05 10:13:00-05:00', '2022-01-05 10:14:00-05:00', '2022-01-05 11:00:00-05:00', '2022-01-05 11:01:00-05:00', '2022-01-05 11:02:00-05:00', '2022-01-05 11:03:00-05:00', '2022-01-05 11:04:00-05:00', '2022-01-05 11:05:00-05:00', '2022-01-05 11:06:00-05:00', '2022-01-05 13:18:00-05:00', '2022-01-05 13:19:00-05:00', '2022-01-05 13:20:00-05:00', '2022-01-05 13:21:00-05:00', '2022-01-05 13:22:00-05:00', '2022-01-05 13:23:00-05:00', '2022-01-05 13:24:00-05:00', '2022-01-05 13:25:00-05:00', '2022-01-05 13:26:00-05:00', '2022-01-05 13:27:00-05:00', '2022-01-05 13:28:00-05:00', '2022-01-05 13:29:00-05:00', '2022-01-05 13:30:00-05:00', '2022-01-05 13:31:00-05:00', '2022-01-05 13:32:00-05:00', '2022-01-05 13:33:00-05:00', '2022-01-05 13:34:00-05:00', '2022-01-05 13:35:00-05:00', '2022-01-05 13:36:00-05:00', '2022-01-05 13:37:00-05:00', '2022-01-05 13:38:00-05:00', '2022-01-05 13:39:00-05:00', '2022-01-05 13:40:00-05:00', '2022-01-05 13:41:00-05:00', '2022-01-05 13:42:00-05:00', '2022-01-05 13:43:00-05:00', '2022-01-05 13:44:00-05:00', '2022-01-05 13:45:00-05:00', '2022-01-05 13:46:00-05:00', '2022-01-05 13:47:00-05:00', '2022-01-05 13:48:00-05:00', '2022-01-05 13:53:00-05:00', '2022-01-05 13:54:00-05:00', '2022-01-05 13:55:00-05:00', '2022-01-05 13:56:00-05:00', '2022-01-05 13:57:00-05:00', '2022-01-05 13:58:00-05:00', '2022-01-05 13:59:00-05:00', '2022-01-05 14:00:00-05:00', '2022-01-05 14:01:00-05:00', '2022-01-05 14:02:00-05:00', '2022-01-05 14:03:00-05:00', '2022-01-05 15:38:00-05:00', '2022-01-05 15:39:00-05:00', '2022-01-05 15:40:00-05:00', '2022-01-05 15:41:00-05:00', '2022-01-05 15:42:00-05:00', '2022-01-05 15:43:00-05:00', '2022-01-05 15:44:00-05:00', '2022-01-05 15:45:00-05:00', '2022-01-05 15:46:00-05:00', '2022-01-05 15:47:00-05:00', '2022-01-05 15:48:00-05:00', '2022-01-05 15:49:00-05:00', '2022-01-05 15:50:00-05:00', '2022-01-05 15:51:00-05:00', '2022-01-05 15:52:00-05:00', '2022-01-05 15:53:00-05:00', '2022-01-05 15:54:00-05:00', '2022-01-05 15:55:00-05:00', '2022-01-05 15:56:00-05:00', '2022-01-05 15:57:00-05:00', '2022-01-06 09:32:00-05:00', '2022-01-06 09:33:00-05:00', '2022-01-06 09:34:00-05:00', '2022-01-06 09:35:00-05:00', '2022-01-06 09:36:00-05:00', '2022-01-06 09:37:00-05:00', '2022-01-06 09:38:00-05:00', '2022-01-06 09:39:00-05:00', '2022-01-06 09:40:00-05:00', '2022-01-06 09:41:00-05:00', '2022-01-06 09:42:00-05:00', '2022-01-06 09:43:00-05:00', '2022-01-06 09:44:00-05:00', '2022-01-06 09:45:00-05:00', '2022-01-06 09:46:00-05:00', '2022-01-06 09:47:00-05:00', '2022-01-06 09:48:00-05:00', '2022-01-06 09:49:00-05:00', '2022-01-06 10:24:00-05:00', '2022-01-06 10:25:00-05:00', '2022-01-06 10:26:00-05:00', '2022-01-06 10:27:00-05:00', '2022-01-06 10:28:00-05:00', '2022-01-06 10:29:00-05:00', '2022-01-06 10:30:00-05:00', '2022-01-06 10:31:00-05:00', '2022-01-06 10:32:00-05:00', '2022-01-06 10:33:00-05:00', '2022-01-06 10:34:00-05:00', '2022-01-06 10:35:00-05:00', '2022-01-06 10:36:00-05:00', '2022-01-06 10:37:00-05:00', '2022-01-06 10:38:00-05:00', '2022-01-06 10:39:00-05:00', '2022-01-06 10:40:00-05:00', '2022-01-06 10:41:00-05:00', '2022-01-06 10:42:00-05:00', '2022-01-06 10:43:00-05:00', '2022-01-06 10:44:00-05:00', '2022-01-06 10:45:00-05:00', '2022-01-06 10:46:00-05:00', '2022-01-06 10:47:00-05:00', '2022-01-06 10:48:00-05:00', '2022-01-06 10:49:00-05:00', '2022-01-06 10:50:00-05:00', '2022-01-06 10:51:00-05:00', '2022-01-06 10:52:00-05:00', '2022-01-06 10:53:00-05:00', '2022-01-06 10:54:00-05:00', '2022-01-06 10:55:00-05:00', '2022-01-06 10:56:00-05:00', '2022-01-06 10:57:00-05:00', '2022-01-06 10:58:00-05:00', '2022-01-06 10:59:00-05:00', '2022-01-06 11:00:00-05:00', '2022-01-06 11:01:00-05:00', '2022-01-06 11:02:00-05:00', '2022-01-06 11:03:00-05:00', '2022-01-06 11:04:00-05:00', '2022-01-06 11:05:00-05:00', '2022-01-06 11:06:00-05:00', '2022-01-06 11:07:00-05:00', '2022-01-06 11:08:00-05:00', '2022-01-06 11:09:00-05:00', '2022-01-06 11:10:00-05:00', '2022-01-06 11:11:00-05:00', '2022-01-06 11:12:00-05:00', '2022-01-06 11:13:00-05:00', '2022-01-06 11:14:00-05:00', '2022-01-06 11:15:00-05:00', '2022-01-06 11:16:00-05:00', '2022-01-06 11:17:00-05:00', '2022-01-06 11:18:00-05:00', '2022-01-06 11:19:00-05:00', '2022-01-06 11:20:00-05:00', '2022-01-06 11:21:00-05:00', '2022-01-06 11:22:00-05:00', '2022-01-06 11:23:00-05:00', '2022-01-06 11:24:00-05:00', '2022-01-06 11:25:00-05:00', '2022-01-06 11:48:00-05:00', '2022-01-06 11:49:00-05:00', '2022-01-06 11:50:00-05:00', '2022-01-06 11:51:00-05:00', '2022-01-06 11:52:00-05:00', '2022-01-06 11:53:00-05:00', '2022-01-06 11:54:00-05:00', '2022-01-06 11:55:00-05:00', '2022-01-06 11:56:00-05:00', '2022-01-06 11:57:00-05:00', '2022-01-06 11:58:00-05:00', '2022-01-06 11:59:00-05:00', '2022-01-06 12:00:00-05:00', '2022-01-06 12:01:00-05:00', '2022-01-06 12:02:00-05:00', '2022-01-06 12:03:00-05:00', '2022-01-06 12:04:00-05:00', '2022-01-06 12:05:00-05:00', '2022-01-06 12:06:00-05:00', '2022-01-06 12:09:00-05:00', '2022-01-06 12:10:00-05:00', '2022-01-06 12:11:00-05:00', '2022-01-06 12:12:00-05:00', '2022-01-06 12:42:00-05:00', '2022-01-06 12:43:00-05:00', '2022-01-06 12:44:00-05:00', '2022-01-06 12:45:00-05:00', '2022-01-06 12:46:00-05:00', '2022-01-06 12:47:00-05:00', '2022-01-06 12:48:00-05:00', '2022-01-06 12:49:00-05:00', '2022-01-06 12:50:00-05:00', '2022-01-06 12:51:00-05:00', '2022-01-06 12:52:00-05:00', '2022-01-06 12:53:00-05:00', '2022-01-06 13:44:00-05:00', '2022-01-06 13:45:00-05:00', '2022-01-06 13:46:00-05:00', '2022-01-06 13:47:00-05:00', '2022-01-06 13:48:00-05:00', '2022-01-06 13:49:00-05:00', '2022-01-06 13:50:00-05:00', '2022-01-06 13:51:00-05:00', '2022-01-06 13:52:00-05:00', '2022-01-06 13:53:00-05:00', '2022-01-06 13:54:00-05:00', '2022-01-06 13:55:00-05:00', '2022-01-06 13:56:00-05:00', '2022-01-06 13:57:00-05:00', '2022-01-06 13:58:00-05:00', '2022-01-06 13:59:00-05:00', '2022-01-06 14:00:00-05:00', '2022-01-06 14:01:00-05:00', '2022-01-06 14:02:00-05:00', '2022-01-06 14:03:00-05:00', '2022-01-06 14:04:00-05:00', '2022-01-06 14:05:00-05:00', '2022-01-06 14:06:00-05:00', '2022-01-06 14:07:00-05:00', '2022-01-06 14:08:00-05:00', '2022-01-06 14:09:00-05:00', '2022-01-06 14:10:00-05:00', '2022-01-06 14:11:00-05:00', '2022-01-06 14:12:00-05:00', '2022-01-06 14:13:00-05:00', '2022-01-06 14:14:00-05:00', '2022-01-06 14:15:00-05:00', '2022-01-06 14:16:00-05:00', '2022-01-06 14:17:00-05:00', '2022-01-06 14:18:00-05:00', '2022-01-06 14:19:00-05:00', '2022-01-06 14:20:26-05:00']\n"
          ]
        }
      ]
    },
    {
      "cell_type": "markdown",
      "source": [
        "Cross Below"
      ],
      "metadata": {
        "id": "7YL4_g0XtqVY"
      }
    },
    {
      "cell_type": "code",
      "source": [
        "previous_s1 = df3['s1'].shift(1)\n",
        "previous_s2 = df3['s2'].shift(1)\n",
        "cross_down = (((df3['s1'] <= df3['s2']) & (previous_s1 <= previous_s2)))\n",
        "cross_below_dates = df3['Datetime'].loc[cross_down]\n",
        "print(\"cross below count\", cross_below_dates.count())\n",
        "cross_below_list = cross_below_dates.values.tolist()\n",
        "print(cross_below_list)"
      ],
      "metadata": {
        "colab": {
          "base_uri": "https://localhost:8080/"
        },
        "id": "iiLBYab9tsXJ",
        "outputId": "022536bb-21c2-4f02-a420-da55ddf34bd0"
      },
      "execution_count": 43,
      "outputs": [
        {
          "output_type": "stream",
          "name": "stdout",
          "text": [
            "cross below count 405\n",
            "['2022-01-05 10:16:00-05:00', '2022-01-05 10:17:00-05:00', '2022-01-05 10:18:00-05:00', '2022-01-05 10:19:00-05:00', '2022-01-05 10:20:00-05:00', '2022-01-05 10:21:00-05:00', '2022-01-05 10:22:00-05:00', '2022-01-05 10:23:00-05:00', '2022-01-05 10:24:00-05:00', '2022-01-05 10:25:00-05:00', '2022-01-05 10:26:00-05:00', '2022-01-05 10:27:00-05:00', '2022-01-05 10:28:00-05:00', '2022-01-05 10:29:00-05:00', '2022-01-05 10:30:00-05:00', '2022-01-05 10:31:00-05:00', '2022-01-05 10:32:00-05:00', '2022-01-05 10:33:00-05:00', '2022-01-05 10:34:00-05:00', '2022-01-05 10:35:00-05:00', '2022-01-05 10:36:00-05:00', '2022-01-05 10:37:00-05:00', '2022-01-05 10:38:00-05:00', '2022-01-05 10:39:00-05:00', '2022-01-05 10:40:00-05:00', '2022-01-05 10:41:00-05:00', '2022-01-05 10:42:00-05:00', '2022-01-05 10:43:00-05:00', '2022-01-05 10:44:00-05:00', '2022-01-05 10:45:00-05:00', '2022-01-05 10:46:00-05:00', '2022-01-05 10:47:00-05:00', '2022-01-05 10:48:00-05:00', '2022-01-05 10:49:00-05:00', '2022-01-05 10:50:00-05:00', '2022-01-05 10:51:00-05:00', '2022-01-05 10:52:00-05:00', '2022-01-05 10:53:00-05:00', '2022-01-05 10:54:00-05:00', '2022-01-05 10:55:00-05:00', '2022-01-05 10:56:00-05:00', '2022-01-05 10:57:00-05:00', '2022-01-05 10:58:00-05:00', '2022-01-05 10:59:00-05:00', '2022-01-05 11:08:00-05:00', '2022-01-05 11:09:00-05:00', '2022-01-05 11:10:00-05:00', '2022-01-05 11:11:00-05:00', '2022-01-05 11:12:00-05:00', '2022-01-05 11:13:00-05:00', '2022-01-05 11:14:00-05:00', '2022-01-05 11:15:00-05:00', '2022-01-05 11:16:00-05:00', '2022-01-05 11:17:00-05:00', '2022-01-05 11:18:00-05:00', '2022-01-05 11:19:00-05:00', '2022-01-05 11:20:00-05:00', '2022-01-05 11:21:00-05:00', '2022-01-05 11:22:00-05:00', '2022-01-05 11:23:00-05:00', '2022-01-05 11:24:00-05:00', '2022-01-05 11:25:00-05:00', '2022-01-05 11:26:00-05:00', '2022-01-05 11:27:00-05:00', '2022-01-05 11:28:00-05:00', '2022-01-05 11:29:00-05:00', '2022-01-05 11:30:00-05:00', '2022-01-05 11:31:00-05:00', '2022-01-05 11:32:00-05:00', '2022-01-05 11:33:00-05:00', '2022-01-05 11:34:00-05:00', '2022-01-05 11:35:00-05:00', '2022-01-05 11:36:00-05:00', '2022-01-05 11:37:00-05:00', '2022-01-05 11:38:00-05:00', '2022-01-05 11:39:00-05:00', '2022-01-05 11:40:00-05:00', '2022-01-05 11:41:00-05:00', '2022-01-05 11:42:00-05:00', '2022-01-05 11:43:00-05:00', '2022-01-05 11:44:00-05:00', '2022-01-05 11:45:00-05:00', '2022-01-05 11:46:00-05:00', '2022-01-05 11:47:00-05:00', '2022-01-05 11:48:00-05:00', '2022-01-05 11:49:00-05:00', '2022-01-05 11:50:00-05:00', '2022-01-05 11:51:00-05:00', '2022-01-05 11:52:00-05:00', '2022-01-05 11:53:00-05:00', '2022-01-05 11:54:00-05:00', '2022-01-05 11:55:00-05:00', '2022-01-05 11:56:00-05:00', '2022-01-05 11:57:00-05:00', '2022-01-05 11:58:00-05:00', '2022-01-05 11:59:00-05:00', '2022-01-05 12:00:00-05:00', '2022-01-05 12:01:00-05:00', '2022-01-05 12:02:00-05:00', '2022-01-05 12:03:00-05:00', '2022-01-05 12:04:00-05:00', '2022-01-05 12:05:00-05:00', '2022-01-05 12:06:00-05:00', '2022-01-05 12:07:00-05:00', '2022-01-05 12:08:00-05:00', '2022-01-05 12:09:00-05:00', '2022-01-05 12:10:00-05:00', '2022-01-05 12:11:00-05:00', '2022-01-05 12:12:00-05:00', '2022-01-05 12:13:00-05:00', '2022-01-05 12:14:00-05:00', '2022-01-05 12:15:00-05:00', '2022-01-05 12:16:00-05:00', '2022-01-05 12:17:00-05:00', '2022-01-05 12:18:00-05:00', '2022-01-05 12:19:00-05:00', '2022-01-05 12:20:00-05:00', '2022-01-05 12:21:00-05:00', '2022-01-05 12:22:00-05:00', '2022-01-05 12:23:00-05:00', '2022-01-05 12:24:00-05:00', '2022-01-05 12:25:00-05:00', '2022-01-05 12:26:00-05:00', '2022-01-05 12:27:00-05:00', '2022-01-05 12:28:00-05:00', '2022-01-05 12:29:00-05:00', '2022-01-05 12:30:00-05:00', '2022-01-05 12:31:00-05:00', '2022-01-05 12:32:00-05:00', '2022-01-05 12:33:00-05:00', '2022-01-05 12:34:00-05:00', '2022-01-05 12:35:00-05:00', '2022-01-05 12:36:00-05:00', '2022-01-05 12:37:00-05:00', '2022-01-05 12:38:00-05:00', '2022-01-05 12:39:00-05:00', '2022-01-05 12:40:00-05:00', '2022-01-05 12:41:00-05:00', '2022-01-05 12:42:00-05:00', '2022-01-05 12:43:00-05:00', '2022-01-05 12:44:00-05:00', '2022-01-05 12:45:00-05:00', '2022-01-05 12:46:00-05:00', '2022-01-05 12:47:00-05:00', '2022-01-05 12:48:00-05:00', '2022-01-05 12:49:00-05:00', '2022-01-05 12:50:00-05:00', '2022-01-05 12:51:00-05:00', '2022-01-05 12:52:00-05:00', '2022-01-05 12:53:00-05:00', '2022-01-05 12:54:00-05:00', '2022-01-05 12:55:00-05:00', '2022-01-05 12:56:00-05:00', '2022-01-05 12:57:00-05:00', '2022-01-05 12:58:00-05:00', '2022-01-05 12:59:00-05:00', '2022-01-05 13:00:00-05:00', '2022-01-05 13:01:00-05:00', '2022-01-05 13:02:00-05:00', '2022-01-05 13:03:00-05:00', '2022-01-05 13:04:00-05:00', '2022-01-05 13:05:00-05:00', '2022-01-05 13:06:00-05:00', '2022-01-05 13:07:00-05:00', '2022-01-05 13:08:00-05:00', '2022-01-05 13:09:00-05:00', '2022-01-05 13:10:00-05:00', '2022-01-05 13:11:00-05:00', '2022-01-05 13:12:00-05:00', '2022-01-05 13:13:00-05:00', '2022-01-05 13:14:00-05:00', '2022-01-05 13:15:00-05:00', '2022-01-05 13:16:00-05:00', '2022-01-05 13:17:00-05:00', '2022-01-05 13:50:00-05:00', '2022-01-05 13:51:00-05:00', '2022-01-05 13:52:00-05:00', '2022-01-05 14:05:00-05:00', '2022-01-05 14:06:00-05:00', '2022-01-05 14:07:00-05:00', '2022-01-05 14:08:00-05:00', '2022-01-05 14:09:00-05:00', '2022-01-05 14:10:00-05:00', '2022-01-05 14:11:00-05:00', '2022-01-05 14:12:00-05:00', '2022-01-05 14:13:00-05:00', '2022-01-05 14:14:00-05:00', '2022-01-05 14:15:00-05:00', '2022-01-05 14:16:00-05:00', '2022-01-05 14:17:00-05:00', '2022-01-05 14:18:00-05:00', '2022-01-05 14:19:00-05:00', '2022-01-05 14:20:00-05:00', '2022-01-05 14:21:00-05:00', '2022-01-05 14:22:00-05:00', '2022-01-05 14:23:00-05:00', '2022-01-05 14:24:00-05:00', '2022-01-05 14:25:00-05:00', '2022-01-05 14:26:00-05:00', '2022-01-05 14:27:00-05:00', '2022-01-05 14:28:00-05:00', '2022-01-05 14:29:00-05:00', '2022-01-05 14:30:00-05:00', '2022-01-05 14:31:00-05:00', '2022-01-05 14:32:00-05:00', '2022-01-05 14:33:00-05:00', '2022-01-05 14:34:00-05:00', '2022-01-05 14:35:00-05:00', '2022-01-05 14:36:00-05:00', '2022-01-05 14:37:00-05:00', '2022-01-05 14:38:00-05:00', '2022-01-05 14:39:00-05:00', '2022-01-05 14:40:00-05:00', '2022-01-05 14:41:00-05:00', '2022-01-05 14:42:00-05:00', '2022-01-05 14:43:00-05:00', '2022-01-05 14:44:00-05:00', '2022-01-05 14:45:00-05:00', '2022-01-05 14:46:00-05:00', '2022-01-05 14:47:00-05:00', '2022-01-05 14:48:00-05:00', '2022-01-05 14:49:00-05:00', '2022-01-05 14:50:00-05:00', '2022-01-05 14:51:00-05:00', '2022-01-05 14:52:00-05:00', '2022-01-05 14:53:00-05:00', '2022-01-05 14:54:00-05:00', '2022-01-05 14:55:00-05:00', '2022-01-05 14:56:00-05:00', '2022-01-05 14:57:00-05:00', '2022-01-05 14:58:00-05:00', '2022-01-05 14:59:00-05:00', '2022-01-05 15:00:00-05:00', '2022-01-05 15:01:00-05:00', '2022-01-05 15:02:00-05:00', '2022-01-05 15:03:00-05:00', '2022-01-05 15:04:00-05:00', '2022-01-05 15:05:00-05:00', '2022-01-05 15:06:00-05:00', '2022-01-05 15:07:00-05:00', '2022-01-05 15:08:00-05:00', '2022-01-05 15:09:00-05:00', '2022-01-05 15:10:00-05:00', '2022-01-05 15:11:00-05:00', '2022-01-05 15:12:00-05:00', '2022-01-05 15:13:00-05:00', '2022-01-05 15:14:00-05:00', '2022-01-05 15:15:00-05:00', '2022-01-05 15:16:00-05:00', '2022-01-05 15:17:00-05:00', '2022-01-05 15:18:00-05:00', '2022-01-05 15:19:00-05:00', '2022-01-05 15:20:00-05:00', '2022-01-05 15:21:00-05:00', '2022-01-05 15:22:00-05:00', '2022-01-05 15:23:00-05:00', '2022-01-05 15:24:00-05:00', '2022-01-05 15:25:00-05:00', '2022-01-05 15:26:00-05:00', '2022-01-05 15:27:00-05:00', '2022-01-05 15:28:00-05:00', '2022-01-05 15:29:00-05:00', '2022-01-05 15:30:00-05:00', '2022-01-05 15:31:00-05:00', '2022-01-05 15:32:00-05:00', '2022-01-05 15:33:00-05:00', '2022-01-05 15:34:00-05:00', '2022-01-05 15:35:00-05:00', '2022-01-05 15:36:00-05:00', '2022-01-05 15:37:00-05:00', '2022-01-05 15:59:00-05:00', '2022-01-06 09:30:00-05:00', '2022-01-06 09:31:00-05:00', '2022-01-06 09:51:00-05:00', '2022-01-06 09:52:00-05:00', '2022-01-06 09:53:00-05:00', '2022-01-06 09:54:00-05:00', '2022-01-06 09:55:00-05:00', '2022-01-06 09:56:00-05:00', '2022-01-06 09:57:00-05:00', '2022-01-06 09:58:00-05:00', '2022-01-06 09:59:00-05:00', '2022-01-06 10:00:00-05:00', '2022-01-06 10:01:00-05:00', '2022-01-06 10:02:00-05:00', '2022-01-06 10:03:00-05:00', '2022-01-06 10:04:00-05:00', '2022-01-06 10:05:00-05:00', '2022-01-06 10:06:00-05:00', '2022-01-06 10:07:00-05:00', '2022-01-06 10:08:00-05:00', '2022-01-06 10:09:00-05:00', '2022-01-06 10:10:00-05:00', '2022-01-06 10:11:00-05:00', '2022-01-06 10:12:00-05:00', '2022-01-06 10:13:00-05:00', '2022-01-06 10:14:00-05:00', '2022-01-06 10:15:00-05:00', '2022-01-06 10:16:00-05:00', '2022-01-06 10:17:00-05:00', '2022-01-06 10:18:00-05:00', '2022-01-06 10:19:00-05:00', '2022-01-06 10:20:00-05:00', '2022-01-06 10:21:00-05:00', '2022-01-06 10:22:00-05:00', '2022-01-06 10:23:00-05:00', '2022-01-06 11:27:00-05:00', '2022-01-06 11:28:00-05:00', '2022-01-06 11:29:00-05:00', '2022-01-06 11:30:00-05:00', '2022-01-06 11:31:00-05:00', '2022-01-06 11:32:00-05:00', '2022-01-06 11:33:00-05:00', '2022-01-06 11:34:00-05:00', '2022-01-06 11:35:00-05:00', '2022-01-06 11:36:00-05:00', '2022-01-06 11:37:00-05:00', '2022-01-06 11:38:00-05:00', '2022-01-06 11:39:00-05:00', '2022-01-06 11:40:00-05:00', '2022-01-06 11:41:00-05:00', '2022-01-06 11:42:00-05:00', '2022-01-06 11:43:00-05:00', '2022-01-06 11:44:00-05:00', '2022-01-06 11:45:00-05:00', '2022-01-06 11:46:00-05:00', '2022-01-06 11:47:00-05:00', '2022-01-06 12:08:00-05:00', '2022-01-06 12:14:00-05:00', '2022-01-06 12:15:00-05:00', '2022-01-06 12:16:00-05:00', '2022-01-06 12:17:00-05:00', '2022-01-06 12:18:00-05:00', '2022-01-06 12:19:00-05:00', '2022-01-06 12:20:00-05:00', '2022-01-06 12:21:00-05:00', '2022-01-06 12:22:00-05:00', '2022-01-06 12:23:00-05:00', '2022-01-06 12:24:00-05:00', '2022-01-06 12:25:00-05:00', '2022-01-06 12:26:00-05:00', '2022-01-06 12:27:00-05:00', '2022-01-06 12:28:00-05:00', '2022-01-06 12:29:00-05:00', '2022-01-06 12:30:00-05:00', '2022-01-06 12:31:00-05:00', '2022-01-06 12:32:00-05:00', '2022-01-06 12:33:00-05:00', '2022-01-06 12:34:00-05:00', '2022-01-06 12:35:00-05:00', '2022-01-06 12:36:00-05:00', '2022-01-06 12:37:00-05:00', '2022-01-06 12:38:00-05:00', '2022-01-06 12:39:00-05:00', '2022-01-06 12:40:00-05:00', '2022-01-06 12:41:00-05:00', '2022-01-06 12:55:00-05:00', '2022-01-06 12:56:00-05:00', '2022-01-06 12:57:00-05:00', '2022-01-06 12:58:00-05:00', '2022-01-06 12:59:00-05:00', '2022-01-06 13:00:00-05:00', '2022-01-06 13:01:00-05:00', '2022-01-06 13:02:00-05:00', '2022-01-06 13:03:00-05:00', '2022-01-06 13:04:00-05:00', '2022-01-06 13:05:00-05:00', '2022-01-06 13:06:00-05:00', '2022-01-06 13:07:00-05:00', '2022-01-06 13:08:00-05:00', '2022-01-06 13:09:00-05:00', '2022-01-06 13:10:00-05:00', '2022-01-06 13:11:00-05:00', '2022-01-06 13:12:00-05:00', '2022-01-06 13:13:00-05:00', '2022-01-06 13:14:00-05:00', '2022-01-06 13:15:00-05:00', '2022-01-06 13:16:00-05:00', '2022-01-06 13:17:00-05:00', '2022-01-06 13:18:00-05:00', '2022-01-06 13:19:00-05:00', '2022-01-06 13:20:00-05:00', '2022-01-06 13:21:00-05:00', '2022-01-06 13:22:00-05:00', '2022-01-06 13:23:00-05:00', '2022-01-06 13:24:00-05:00', '2022-01-06 13:25:00-05:00', '2022-01-06 13:26:00-05:00', '2022-01-06 13:27:00-05:00', '2022-01-06 13:28:00-05:00', '2022-01-06 13:29:00-05:00', '2022-01-06 13:30:00-05:00', '2022-01-06 13:31:00-05:00', '2022-01-06 13:32:00-05:00', '2022-01-06 13:33:00-05:00', '2022-01-06 13:34:00-05:00', '2022-01-06 13:35:00-05:00', '2022-01-06 13:36:00-05:00', '2022-01-06 13:37:00-05:00', '2022-01-06 13:38:00-05:00', '2022-01-06 13:39:00-05:00', '2022-01-06 13:40:00-05:00', '2022-01-06 13:41:00-05:00', '2022-01-06 13:42:00-05:00', '2022-01-06 13:43:00-05:00']\n"
          ]
        }
      ]
    },
    {
      "cell_type": "markdown",
      "source": [
        "Cross"
      ],
      "metadata": {
        "id": "1SWh4WN1uJHs"
      }
    },
    {
      "cell_type": "code",
      "source": [
        "diff = df3['s1'] < df3['s2']\n",
        "diff_forward = diff.shift(1)\n",
        "crossing = np.where(abs(diff - diff_forward) == 1)[0]\n",
        "cross_dates = df3['Datetime'].iloc[crossing]\n",
        "print(\"Crossing Data count\",cross_dates.count())\n",
        "cross_dates_list = cross_dates.values.tolist()\n",
        "print(cross_dates_list)"
      ],
      "metadata": {
        "colab": {
          "base_uri": "https://localhost:8080/"
        },
        "id": "K3VDX1kauK4m",
        "outputId": "dfcc5a66-65ed-499e-8c26-c3a5a4195902"
      },
      "execution_count": 44,
      "outputs": [
        {
          "output_type": "stream",
          "name": "stdout",
          "text": [
            "Crossing Data count 20\n",
            "['2022-01-05 10:15:00-05:00', '2022-01-05 11:00:00-05:00', '2022-01-05 11:07:00-05:00', '2022-01-05 13:18:00-05:00', '2022-01-05 13:49:00-05:00', '2022-01-05 13:53:00-05:00', '2022-01-05 14:04:00-05:00', '2022-01-05 15:38:00-05:00', '2022-01-05 15:58:00-05:00', '2022-01-06 09:32:00-05:00', '2022-01-06 09:50:00-05:00', '2022-01-06 10:24:00-05:00', '2022-01-06 11:26:00-05:00', '2022-01-06 11:48:00-05:00', '2022-01-06 12:07:00-05:00', '2022-01-06 12:09:00-05:00', '2022-01-06 12:13:00-05:00', '2022-01-06 12:42:00-05:00', '2022-01-06 12:54:00-05:00', '2022-01-06 13:44:00-05:00']\n"
          ]
        }
      ]
    },
    {
      "cell_type": "code",
      "source": [
        "df3.plot()"
      ],
      "metadata": {
        "colab": {
          "base_uri": "https://localhost:8080/",
          "height": 282
        },
        "id": "QGiTgCk4vF0V",
        "outputId": "5421eeb0-4990-4cac-a41c-6c4427643cfb"
      },
      "execution_count": 47,
      "outputs": [
        {
          "output_type": "execute_result",
          "data": {
            "text/plain": [
              "<matplotlib.axes._subplots.AxesSubplot at 0x7fc9e7e2d210>"
            ]
          },
          "metadata": {},
          "execution_count": 47
        },
        {
          "output_type": "display_data",
          "data": {
            "text/plain": [
              "<Figure size 432x288 with 1 Axes>"
            ],
            "image/png": "[encoded data removed]"
          },
          "metadata": {
            "needs_background": "light"
          }
        }
      ]
    },
    {
      "cell_type": "code",
      "source": [
        "!pip install kora"
      ],
      "metadata": {
        "colab": {
          "base_uri": "https://localhost:8080/"
        },
        "id": "p0VS3wpIzgwV",
        "outputId": "4c095826-c56f-46e4-e558-3fe355cf29ed"
      },
      "execution_count": 48,
      "outputs": [
        {
          "output_type": "stream",
          "name": "stdout",
          "text": [
            "Looking in indexes: https://pypi.org/simple, https://us-python.pkg.dev/colab-wheels/public/simple/\n",
            "Collecting kora\n",
            "  Downloading kora-0.9.20-py3-none-any.whl (57 kB)\n",
            "\u001b[K     |████████████████████████████████| 57 kB 2.8 MB/s \n",
            "\u001b[?25hRequirement already satisfied: fastcore in /usr/local/lib/python3.7/dist-packages (from kora) (1.5.21)\n",
            "Requirement already satisfied: ipython in /usr/local/lib/python3.7/dist-packages (from kora) (7.9.0)\n",
            "Requirement already satisfied: pip in /usr/local/lib/python3.7/dist-packages (from fastcore->kora) (21.1.3)\n",
            "Requirement already satisfied: packaging in /usr/local/lib/python3.7/dist-packages (from fastcore->kora) (21.3)\n",
            "Requirement already satisfied: pygments in /usr/local/lib/python3.7/dist-packages (from ipython->kora) (2.6.1)\n",
            "Requirement already satisfied: pexpect in /usr/local/lib/python3.7/dist-packages (from ipython->kora) (4.8.0)\n",
            "Requirement already satisfied: pickleshare in /usr/local/lib/python3.7/dist-packages (from ipython->kora) (0.7.5)\n",
            "Requirement already satisfied: backcall in /usr/local/lib/python3.7/dist-packages (from ipython->kora) (0.2.0)\n",
            "Requirement already satisfied: prompt-toolkit<2.1.0,>=2.0.0 in /usr/local/lib/python3.7/dist-packages (from ipython->kora) (2.0.10)\n",
            "Requirement already satisfied: decorator in /usr/local/lib/python3.7/dist-packages (from ipython->kora) (4.4.2)\n",
            "Requirement already satisfied: setuptools>=18.5 in /usr/local/lib/python3.7/dist-packages (from ipython->kora) (57.4.0)\n",
            "Collecting jedi>=0.10\n",
            "  Downloading jedi-0.18.1-py2.py3-none-any.whl (1.6 MB)\n",
            "\u001b[K     |████████████████████████████████| 1.6 MB 10.4 MB/s \n",
            "\u001b[?25hRequirement already satisfied: traitlets>=4.2 in /usr/local/lib/python3.7/dist-packages (from ipython->kora) (5.1.1)\n",
            "Requirement already satisfied: parso<0.9.0,>=0.8.0 in /usr/local/lib/python3.7/dist-packages (from jedi>=0.10->ipython->kora) (0.8.3)\n",
            "Requirement already satisfied: wcwidth in /usr/local/lib/python3.7/dist-packages (from prompt-toolkit<2.1.0,>=2.0.0->ipython->kora) (0.2.5)\n",
            "Requirement already satisfied: six>=1.9.0 in /usr/local/lib/python3.7/dist-packages (from prompt-toolkit<2.1.0,>=2.0.0->ipython->kora) (1.15.0)\n",
            "Requirement already satisfied: pyparsing!=3.0.5,>=2.0.2 in /usr/local/lib/python3.7/dist-packages (from packaging->fastcore->kora) (3.0.9)\n",
            "Requirement already satisfied: ptyprocess>=0.5 in /usr/local/lib/python3.7/dist-packages (from pexpect->ipython->kora) (0.7.0)\n",
            "Installing collected packages: jedi, kora\n",
            "Successfully installed jedi-0.18.1 kora-0.9.20\n"
          ]
        }
      ]
    },
    {
      "cell_type": "code",
      "source": [
        "from kora import console\n",
        "console.start()"
      ],
      "metadata": {
        "colab": {
          "base_uri": "https://localhost:8080/"
        },
        "id": "TauLe4bMzinQ",
        "outputId": "0327fe98-b569-409a-88f6-52055ab70662"
      },
      "execution_count": 51,
      "outputs": [
        {
          "output_type": "stream",
          "name": "stdout",
          "text": [
            "\n"
          ]
        }
      ]
    },
    {
      "cell_type": "code",
      "source": [
        ""
      ],
      "metadata": {
        "id": "sam_deHr0Hog"
      },
      "execution_count": null,
      "outputs": []
    }
  ]
}